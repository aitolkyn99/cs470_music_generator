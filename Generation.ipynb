{
  "nbformat": 4,
  "nbformat_minor": 0,
  "metadata": {
    "colab": {
      "name": "Generation.ipynb",
      "provenance": [],
      "collapsed_sections": []
    },
    "kernelspec": {
      "name": "python3",
      "display_name": "Python 3"
    },
    "accelerator": "GPU"
  },
  "cells": [
    {
      "cell_type": "code",
      "metadata": {
        "colab": {
          "base_uri": "https://localhost:8080/",
          "height": 52
        },
        "id": "44UFjq5ZqF28",
        "outputId": "23f2e718-9598-4b6f-fd0d-a840bab28ac2"
      },
      "source": [
        "from google.colab import drive\n",
        "import os\n",
        "drive.mount('/gdrive')\n",
        "os.getcwd()\n",
        "# os.environ['CUDA_LAUNCH_BLOCKING'] = \"1\""
      ],
      "execution_count": null,
      "outputs": [
        {
          "output_type": "stream",
          "text": [
            "Mounted at /gdrive\n"
          ],
          "name": "stdout"
        },
        {
          "output_type": "execute_result",
          "data": {
            "application/vnd.google.colaboratory.intrinsic+json": {
              "type": "string"
            },
            "text/plain": [
              "'/content'"
            ]
          },
          "metadata": {
            "tags": []
          },
          "execution_count": 1
        }
      ]
    },
    {
      "cell_type": "code",
      "metadata": {
        "colab": {
          "base_uri": "https://localhost:8080/",
          "height": 35
        },
        "id": "FmbVrJocwKxA",
        "outputId": "103bf3f3-bb5a-46f5-9741-ad27b20a2e5b"
      },
      "source": [
        "root = \"/gdrive/My Drive/CS470/cs470_music_generator\"\n",
        "root_data = '/gdrive/My Drive/CS470/data'\n",
        "root_midi = '/gdrive/My Drive/CS470/data/midi'\n",
        "os.chdir(root)\n",
        "os.getcwd()"
      ],
      "execution_count": null,
      "outputs": [
        {
          "output_type": "execute_result",
          "data": {
            "application/vnd.google.colaboratory.intrinsic+json": {
              "type": "string"
            },
            "text/plain": [
              "'/gdrive/My Drive/CS470/cs470_music_generator'"
            ]
          },
          "metadata": {
            "tags": []
          },
          "execution_count": 2
        }
      ]
    },
    {
      "cell_type": "code",
      "metadata": {
        "id": "S7-85VB3wFyJ"
      },
      "source": [
        "import torch\n",
        "import torch.nn as nn\n",
        "import torch.nn.functional as F\n",
        "import numpy as np\n",
        "import re\n",
        "import pickle\n",
        "import random"
      ],
      "execution_count": null,
      "outputs": []
    },
    {
      "cell_type": "code",
      "metadata": {
        "id": "5P9Tw7BExOnL"
      },
      "source": [
        "def word_encode(words_arr, word):\n",
        "    return (words_arr == word).astype(np.float).reshape(1,-1)\n",
        "\n",
        "def word_mapping(words_arr, word):\n",
        "    return words_arr[word]"
      ],
      "execution_count": null,
      "outputs": []
    },
    {
      "cell_type": "code",
      "metadata": {
        "id": "8L1aaE25wFKg"
      },
      "source": [
        "device = torch.device(\"cuda\" if torch.cuda.is_available() else \"cpu\")"
      ],
      "execution_count": null,
      "outputs": []
    },
    {
      "cell_type": "code",
      "metadata": {
        "id": "AgXpmq91u8CJ"
      },
      "source": [
        "class Model(nn.Module):\n",
        "    def __init__(self, input_size, hidden_size, num_layers, output_size, embed):\n",
        "        super(Model,self).__init__()\n",
        "\n",
        "        self.embed = embed\n",
        "        self.num_layers = num_layers\n",
        "        self.hidden_size = hidden_size\n",
        "        self.input_size = input_size\n",
        "        \n",
        "        self.cell = nn.GRU(input_size=hidden_size if embed else input_size,\n",
        "                          hidden_size=hidden_size,\n",
        "                          num_layers=num_layers,\n",
        "                          batch_first=True)\n",
        "        \n",
        "        self.fc = nn.Linear(hidden_size,output_size)\n",
        "        \n",
        "        self.encoder = nn.Embedding(input_size, hidden_size)\n",
        "        \n",
        "    def forward(self,input):\n",
        "        batch_size = input.size()[0]\n",
        "        hidden = self._init_hidden(batch_size)\n",
        "        if self.embed:\n",
        "            x_ = self.encoder(input)\n",
        "        else:\n",
        "            x_ = input\n",
        "        output, hidden = self.cell(x_, hidden)\n",
        "        fc_output = self.fc(output.view(-1, hidden_size))\n",
        "        return fc_output\n",
        "    \n",
        "    def forward2(self, input, hidden):\n",
        "        if self.embed:\n",
        "            x_ = self.encoder(input)\n",
        "        else:\n",
        "            x_ = input\n",
        "        output,hidden = self.cell(x_,hidden)\n",
        "        fc_output = self.fc(output.view(-1, hidden_size))\n",
        "        return fc_output, hidden\n",
        "    \n",
        "    def _init_hidden(self,batch_size):\n",
        "        hidden = torch.zeros(self.num_layers, batch_size, self.hidden_size).to(device)\n",
        "        return hidden"
      ],
      "execution_count": null,
      "outputs": []
    },
    {
      "cell_type": "code",
      "metadata": {
        "id": "3at6m7_dv6po"
      },
      "source": [
        "lines = list(map(lambda x: x.strip(), open(\"data/cleaned_lyrics.txt\").readlines()))\n",
        "lines = '\\n'.join(lines)\n",
        "words_arr = np.array(list(set(re.findall(r'\\S+|\\n', lines))))\n",
        "n_words = len(words_arr)"
      ],
      "execution_count": null,
      "outputs": []
    },
    {
      "cell_type": "code",
      "metadata": {
        "colab": {
          "base_uri": "https://localhost:8080/"
        },
        "id": "ijHIHpYZu8sc",
        "outputId": "8e7e1ab6-23f7-4c6c-8c1f-0228c314640d"
      },
      "source": [
        "input_size = n_words\n",
        "hidden_size = 256 \n",
        "num_layers = 1\n",
        "output_size = n_words\n",
        "\n",
        "lyrics_model = Model(input_size, hidden_size, num_layers, output_size, False).to(device)\n",
        "\n",
        "lyrics_model"
      ],
      "execution_count": null,
      "outputs": [
        {
          "output_type": "execute_result",
          "data": {
            "text/plain": [
              "Model(\n",
              "  (cell): GRU(4405, 256, batch_first=True)\n",
              "  (fc): Linear(in_features=256, out_features=4405, bias=True)\n",
              "  (encoder): Embedding(4405, 256)\n",
              ")"
            ]
          },
          "metadata": {
            "tags": []
          },
          "execution_count": 8
        }
      ]
    },
    {
      "cell_type": "code",
      "metadata": {
        "colab": {
          "base_uri": "https://localhost:8080/",
          "height": 52
        },
        "id": "c18gXeujx2NA",
        "outputId": "1821dab0-9f02-40f4-b6e1-e7a9fefdfc22"
      },
      "source": [
        "!git clone https://github.com/bearpelican/musicautobot.git\n",
        "os.chdir('musicautobot')\n",
        "os.getcwd()"
      ],
      "execution_count": null,
      "outputs": [
        {
          "output_type": "stream",
          "text": [
            "fatal: destination path 'musicautobot' already exists and is not an empty directory.\n"
          ],
          "name": "stdout"
        },
        {
          "output_type": "execute_result",
          "data": {
            "application/vnd.google.colaboratory.intrinsic+json": {
              "type": "string"
            },
            "text/plain": [
              "'/gdrive/My Drive/CS470/cs470_music_generator/musicautobot'"
            ]
          },
          "metadata": {
            "tags": []
          },
          "execution_count": 9
        }
      ]
    },
    {
      "cell_type": "code",
      "metadata": {
        "colab": {
          "base_uri": "https://localhost:8080/"
        },
        "id": "OsK0SLikwXaX",
        "outputId": "918c900a-e4cb-4d16-8533-05cd95a181cf"
      },
      "source": [
        "!apt-get update\n",
        "!apt install musescore fluidsynth\n",
        "!pip install torch fastai music21 pebble fluidsynth midi2audio"
      ],
      "execution_count": null,
      "outputs": [
        {
          "output_type": "stream",
          "text": [
            "\r0% [Working]\r            \rGet:1 https://cloud.r-project.org/bin/linux/ubuntu bionic-cran40/ InRelease [3,626 B]\n",
            "\r0% [Connecting to archive.ubuntu.com (91.189.88.142)] [Connecting to security.u\r0% [Connecting to archive.ubuntu.com (91.189.88.142)] [Connecting to security.u\r0% [1 InRelease gpgv 3,626 B] [Connecting to archive.ubuntu.com (91.189.88.142)\r                                                                               \rIgn:2 https://developer.download.nvidia.com/compute/cuda/repos/ubuntu1804/x86_64  InRelease\n",
            "\r0% [1 InRelease gpgv 3,626 B] [Connecting to archive.ubuntu.com (91.189.88.142)\r                                                                               \rGet:3 http://security.ubuntu.com/ubuntu bionic-security InRelease [88.7 kB]\n",
            "Ign:4 https://developer.download.nvidia.com/compute/machine-learning/repos/ubuntu1804/x86_64  InRelease\n",
            "Hit:5 https://developer.download.nvidia.com/compute/cuda/repos/ubuntu1804/x86_64  Release\n",
            "Hit:6 https://developer.download.nvidia.com/compute/machine-learning/repos/ubuntu1804/x86_64  Release\n",
            "Hit:7 http://archive.ubuntu.com/ubuntu bionic InRelease\n",
            "Get:8 http://ppa.launchpad.net/c2d4u.team/c2d4u4.0+/ubuntu bionic InRelease [15.9 kB]\n",
            "Get:9 http://archive.ubuntu.com/ubuntu bionic-updates InRelease [88.7 kB]\n",
            "Get:12 http://ppa.launchpad.net/graphics-drivers/ppa/ubuntu bionic InRelease [21.3 kB]\n",
            "Get:13 http://archive.ubuntu.com/ubuntu bionic-backports InRelease [74.6 kB]\n",
            "Get:14 http://security.ubuntu.com/ubuntu bionic-security/main amd64 Packages [1,815 kB]\n",
            "Get:15 http://ppa.launchpad.net/c2d4u.team/c2d4u4.0+/ubuntu bionic/main Sources [1,696 kB]\n",
            "Get:16 http://security.ubuntu.com/ubuntu bionic-security/multiverse amd64 Packages [15.8 kB]\n",
            "Get:17 http://security.ubuntu.com/ubuntu bionic-security/universe amd64 Packages [1,370 kB]\n",
            "Get:18 http://archive.ubuntu.com/ubuntu bionic-updates/multiverse amd64 Packages [54.3 kB]\n",
            "Get:19 http://archive.ubuntu.com/ubuntu bionic-updates/main amd64 Packages [2,243 kB]\n",
            "Get:20 http://archive.ubuntu.com/ubuntu bionic-updates/universe amd64 Packages [2,134 kB]\n",
            "Get:21 http://ppa.launchpad.net/c2d4u.team/c2d4u4.0+/ubuntu bionic/main amd64 Packages [868 kB]\n",
            "Get:22 http://ppa.launchpad.net/graphics-drivers/ppa/ubuntu bionic/main amd64 Packages [46.5 kB]\n",
            "Fetched 10.5 MB in 4s (2,571 kB/s)\n",
            "Reading package lists... Done\n",
            "Reading package lists... Done\n",
            "Building dependency tree       \n",
            "Reading state information... Done\n",
            "The following additional packages will be installed:\n",
            "  avahi-daemon bind9-host desktop-file-utils fluid-soundfont-gm\n",
            "  fluidr3mono-gm-soundfont geoclue-2.0 geoip-database\n",
            "  gstreamer1.0-plugins-base iio-sensor-proxy libavahi-core7 libavahi-glib1\n",
            "  libbind9-160 libbrotli1 libcap2-bin libcdparanoia0 libdaemon0 libdns1100\n",
            "  libfluidsynth1 libgeoclue-2-0 libgeoip1 libgl1-mesa-glx\n",
            "  libgstreamer-plugins-base1.0-0 libgstreamer1.0-0 libhyphen0 libisc169\n",
            "  libisccc160 libisccfg160 liblwres160 libmbim-glib4 libmbim-proxy libmm-glib0\n",
            "  libnl-genl-3-200 libnss-mdns liborc-0.4-0 libpam-cap libportaudio2\n",
            "  libpulsedsp libqmi-glib5 libqmi-proxy libqt5help5 libqt5positioning5\n",
            "  libqt5qml5 libqt5quick5 libqt5sensors5 libqt5sql5-sqlite libqt5svg5\n",
            "  libqt5webchannel5 libqt5webkit5 libqt5x11extras5 libqt5xmlpatterns5\n",
            "  libvisual-0.4-0 libwoff1 modemmanager musescore-common pulseaudio-utils\n",
            "  qml-module-qtgraphicaleffects qml-module-qtquick-controls\n",
            "  qml-module-qtquick-dialogs qml-module-qtquick-layouts\n",
            "  qml-module-qtquick-privatewidgets qml-module-qtquick-window2\n",
            "  qml-module-qtquick2 qsynth usb-modeswitch usb-modeswitch-data wpasupplicant\n",
            "Suggested packages:\n",
            "  avahi-autoipd fluid-soundfont-gs timidity gvfs geoip-bin\n",
            "  libvisual-0.4-plugins gstreamer1.0-tools avahi-autoipd | zeroconf\n",
            "  qt5-qmltooling-plugins timgm6mb-soundfont pulseaudio jackd comgt wvdial\n",
            "  wpagui libengine-pkcs11-openssl\n",
            "The following NEW packages will be installed:\n",
            "  avahi-daemon bind9-host desktop-file-utils fluid-soundfont-gm\n",
            "  fluidr3mono-gm-soundfont fluidsynth geoclue-2.0 geoip-database\n",
            "  gstreamer1.0-plugins-base iio-sensor-proxy libavahi-core7 libavahi-glib1\n",
            "  libbind9-160 libbrotli1 libcap2-bin libcdparanoia0 libdaemon0 libdns1100\n",
            "  libfluidsynth1 libgeoclue-2-0 libgeoip1 libgl1-mesa-glx\n",
            "  libgstreamer-plugins-base1.0-0 libgstreamer1.0-0 libhyphen0 libisc169\n",
            "  libisccc160 libisccfg160 liblwres160 libmbim-glib4 libmbim-proxy libmm-glib0\n",
            "  libnl-genl-3-200 libnss-mdns liborc-0.4-0 libpam-cap libportaudio2\n",
            "  libpulsedsp libqmi-glib5 libqmi-proxy libqt5help5 libqt5positioning5\n",
            "  libqt5qml5 libqt5quick5 libqt5sensors5 libqt5sql5-sqlite libqt5svg5\n",
            "  libqt5webchannel5 libqt5webkit5 libqt5x11extras5 libqt5xmlpatterns5\n",
            "  libvisual-0.4-0 libwoff1 modemmanager musescore musescore-common\n",
            "  pulseaudio-utils qml-module-qtgraphicaleffects qml-module-qtquick-controls\n",
            "  qml-module-qtquick-dialogs qml-module-qtquick-layouts\n",
            "  qml-module-qtquick-privatewidgets qml-module-qtquick-window2\n",
            "  qml-module-qtquick2 qsynth usb-modeswitch usb-modeswitch-data wpasupplicant\n",
            "0 upgraded, 68 newly installed, 0 to remove and 20 not upgraded.\n",
            "Need to get 176 MB of archives.\n",
            "After this operation, 330 MB of additional disk space will be used.\n",
            "Get:1 http://archive.ubuntu.com/ubuntu bionic/main amd64 libdaemon0 amd64 0.14-6 [16.6 kB]\n",
            "Get:2 http://archive.ubuntu.com/ubuntu bionic/main amd64 libqt5svg5 amd64 5.9.5-0ubuntu1 [128 kB]\n",
            "Get:3 http://archive.ubuntu.com/ubuntu bionic/main amd64 libcap2-bin amd64 1:2.25-1.2 [20.6 kB]\n",
            "Get:4 http://archive.ubuntu.com/ubuntu bionic-updates/main amd64 libgstreamer1.0-0 amd64 1.14.5-0ubuntu1~18.04.1 [865 kB]\n",
            "Get:5 http://archive.ubuntu.com/ubuntu bionic/main amd64 liborc-0.4-0 amd64 1:0.4.28-1 [137 kB]\n",
            "Get:6 http://archive.ubuntu.com/ubuntu bionic-updates/main amd64 libgstreamer-plugins-base1.0-0 amd64 1.14.5-0ubuntu1~18.04.1 [688 kB]\n",
            "Get:7 http://archive.ubuntu.com/ubuntu bionic/main amd64 libhyphen0 amd64 2.8.8-5 [26.5 kB]\n",
            "Get:8 http://archive.ubuntu.com/ubuntu bionic/universe amd64 libqt5positioning5 amd64 5.9.5+dfsg-0ubuntu2 [131 kB]\n",
            "Get:9 http://archive.ubuntu.com/ubuntu bionic-updates/universe amd64 libqt5qml5 amd64 5.9.5-0ubuntu1.1 [1,242 kB]\n",
            "Get:10 http://archive.ubuntu.com/ubuntu bionic-updates/universe amd64 libqt5quick5 amd64 5.9.5-0ubuntu1.1 [1,201 kB]\n",
            "Get:11 http://archive.ubuntu.com/ubuntu bionic/universe amd64 libqt5sensors5 amd64 5.9.5-0ubuntu1 [113 kB]\n",
            "Get:12 http://archive.ubuntu.com/ubuntu bionic/universe amd64 libqt5webchannel5 amd64 5.9.5-0ubuntu1 [47.7 kB]\n",
            "Get:13 http://archive.ubuntu.com/ubuntu bionic-updates/main amd64 libbrotli1 amd64 1.0.3-1ubuntu1.3 [262 kB]\n",
            "Get:14 http://archive.ubuntu.com/ubuntu bionic-updates/main amd64 libwoff1 amd64 1.0.2-1build0.1 [43.0 kB]\n",
            "Get:15 http://archive.ubuntu.com/ubuntu bionic/universe amd64 libqt5webkit5 amd64 5.212.0~alpha2-7ubuntu1 [11.8 MB]\n",
            "Get:16 http://archive.ubuntu.com/ubuntu bionic-updates/universe amd64 qml-module-qtquick-window2 amd64 5.9.5-0ubuntu1.1 [18.1 kB]\n",
            "Get:17 http://archive.ubuntu.com/ubuntu bionic-updates/universe amd64 qml-module-qtquick2 amd64 5.9.5-0ubuntu1.1 [31.4 kB]\n",
            "Get:18 http://archive.ubuntu.com/ubuntu bionic/universe amd64 qml-module-qtgraphicaleffects amd64 5.9.5-0ubuntu1 [96.1 kB]\n",
            "Get:19 http://archive.ubuntu.com/ubuntu bionic-updates/universe amd64 qml-module-qtquick-layouts amd64 5.9.5-0ubuntu1.1 [44.9 kB]\n",
            "Get:20 http://archive.ubuntu.com/ubuntu bionic/universe amd64 qml-module-qtquick-controls amd64 5.9.5-0ubuntu1 [712 kB]\n",
            "Get:21 http://archive.ubuntu.com/ubuntu bionic/main amd64 libpam-cap amd64 1:2.25-1.2 [7,268 B]\n",
            "Get:22 http://archive.ubuntu.com/ubuntu bionic-updates/main amd64 libisc169 amd64 1:9.11.3+dfsg-1ubuntu1.13 [238 kB]\n",
            "Get:23 http://archive.ubuntu.com/ubuntu bionic/main amd64 libgeoip1 amd64 1.6.12-1 [71.8 kB]\n",
            "Get:24 http://archive.ubuntu.com/ubuntu bionic-updates/main amd64 libdns1100 amd64 1:9.11.3+dfsg-1ubuntu1.13 [966 kB]\n",
            "Get:25 http://archive.ubuntu.com/ubuntu bionic-updates/main amd64 libisccc160 amd64 1:9.11.3+dfsg-1ubuntu1.13 [17.9 kB]\n",
            "Get:26 http://archive.ubuntu.com/ubuntu bionic-updates/main amd64 libisccfg160 amd64 1:9.11.3+dfsg-1ubuntu1.13 [48.4 kB]\n",
            "Get:27 http://archive.ubuntu.com/ubuntu bionic-updates/main amd64 libbind9-160 amd64 1:9.11.3+dfsg-1ubuntu1.13 [27.6 kB]\n",
            "Get:28 http://archive.ubuntu.com/ubuntu bionic-updates/main amd64 liblwres160 amd64 1:9.11.3+dfsg-1ubuntu1.13 [34.7 kB]\n",
            "Get:29 http://archive.ubuntu.com/ubuntu bionic-updates/main amd64 bind9-host amd64 1:9.11.3+dfsg-1ubuntu1.13 [53.5 kB]\n",
            "Get:30 http://archive.ubuntu.com/ubuntu bionic/main amd64 geoip-database all 20180315-1 [2,090 kB]\n",
            "Get:31 http://archive.ubuntu.com/ubuntu bionic-updates/main amd64 libavahi-core7 amd64 0.7-3.1ubuntu1.2 [81.1 kB]\n",
            "Get:32 http://archive.ubuntu.com/ubuntu bionic-updates/main amd64 avahi-daemon amd64 0.7-3.1ubuntu1.2 [62.3 kB]\n",
            "Get:33 http://archive.ubuntu.com/ubuntu bionic-updates/main amd64 desktop-file-utils amd64 0.23-1ubuntu3.18.04.2 [51.4 kB]\n",
            "Get:34 http://archive.ubuntu.com/ubuntu bionic/universe amd64 fluid-soundfont-gm all 3.1-5.1 [119 MB]\n",
            "Get:35 http://archive.ubuntu.com/ubuntu bionic/universe amd64 fluidr3mono-gm-soundfont all 2.315-4 [18.7 MB]\n",
            "Get:36 http://archive.ubuntu.com/ubuntu bionic/universe amd64 libfluidsynth1 amd64 1.1.9-1 [137 kB]\n",
            "Get:37 http://archive.ubuntu.com/ubuntu bionic/universe amd64 fluidsynth amd64 1.1.9-1 [20.7 kB]\n",
            "Get:38 http://archive.ubuntu.com/ubuntu bionic-updates/main amd64 libavahi-glib1 amd64 0.7-3.1ubuntu1.2 [7,720 B]\n",
            "Get:39 http://archive.ubuntu.com/ubuntu bionic/main amd64 libgeoclue-2-0 amd64 2.4.7-1ubuntu1 [25.6 kB]\n",
            "Get:40 http://archive.ubuntu.com/ubuntu bionic-updates/main amd64 libmm-glib0 amd64 1.10.0-1~ubuntu18.04.2 [179 kB]\n",
            "Get:41 http://archive.ubuntu.com/ubuntu bionic/main amd64 geoclue-2.0 amd64 2.4.7-1ubuntu1 [80.6 kB]\n",
            "Get:42 http://archive.ubuntu.com/ubuntu bionic/main amd64 libcdparanoia0 amd64 3.10.2+debian-13 [46.7 kB]\n",
            "Get:43 http://archive.ubuntu.com/ubuntu bionic/main amd64 libvisual-0.4-0 amd64 0.4.0-11 [99.2 kB]\n",
            "Get:44 http://archive.ubuntu.com/ubuntu bionic-updates/main amd64 gstreamer1.0-plugins-base amd64 1.14.5-0ubuntu1~18.04.1 [587 kB]\n",
            "Get:45 http://archive.ubuntu.com/ubuntu bionic/main amd64 iio-sensor-proxy amd64 2.4-2 [45.0 kB]\n",
            "Get:46 http://archive.ubuntu.com/ubuntu bionic-updates/main amd64 libgl1-mesa-glx amd64 20.0.8-0ubuntu1~18.04.1 [5,532 B]\n",
            "Get:47 http://archive.ubuntu.com/ubuntu bionic-updates/main amd64 libmbim-glib4 amd64 1.18.0-1~ubuntu18.04.1 [91.4 kB]\n",
            "Get:48 http://archive.ubuntu.com/ubuntu bionic-updates/main amd64 libmbim-proxy amd64 1.18.0-1~ubuntu18.04.1 [5,572 B]\n",
            "Get:49 http://archive.ubuntu.com/ubuntu bionic/main amd64 libnl-genl-3-200 amd64 3.2.29-0ubuntu3 [11.2 kB]\n",
            "Get:50 http://archive.ubuntu.com/ubuntu bionic/main amd64 libnss-mdns amd64 0.10-8ubuntu1 [21.2 kB]\n",
            "Get:51 http://archive.ubuntu.com/ubuntu bionic/universe amd64 libportaudio2 amd64 19.6.0-1 [64.6 kB]\n",
            "Get:52 http://archive.ubuntu.com/ubuntu bionic-updates/main amd64 libpulsedsp amd64 1:11.1-1ubuntu7.11 [31.9 kB]\n",
            "Get:53 http://archive.ubuntu.com/ubuntu bionic-updates/main amd64 libqmi-glib5 amd64 1.22.0-1.2~ubuntu18.04.1 [494 kB]\n",
            "Get:54 http://archive.ubuntu.com/ubuntu bionic-updates/main amd64 libqmi-proxy amd64 1.22.0-1.2~ubuntu18.04.1 [5,632 B]\n",
            "Get:55 http://archive.ubuntu.com/ubuntu bionic/universe amd64 libqt5help5 amd64 5.9.5-0ubuntu1 [133 kB]\n",
            "Get:56 http://archive.ubuntu.com/ubuntu bionic-updates/main amd64 libqt5sql5-sqlite amd64 5.9.5+dfsg-0ubuntu2.5 [40.2 kB]\n",
            "Get:57 http://archive.ubuntu.com/ubuntu bionic/universe amd64 libqt5x11extras5 amd64 5.9.5-0ubuntu1 [8,596 B]\n",
            "Get:58 http://archive.ubuntu.com/ubuntu bionic/universe amd64 libqt5xmlpatterns5 amd64 5.9.5-0ubuntu1 [916 kB]\n",
            "Get:59 http://archive.ubuntu.com/ubuntu bionic-updates/main amd64 modemmanager amd64 1.10.0-1~ubuntu18.04.2 [728 kB]\n",
            "Get:60 http://archive.ubuntu.com/ubuntu bionic/universe amd64 musescore-common all 2.1.0+dfsg3-3build1 [3,023 kB]\n",
            "Get:61 http://archive.ubuntu.com/ubuntu bionic/universe amd64 qml-module-qtquick-privatewidgets amd64 5.9.5-0ubuntu1 [41.7 kB]\n",
            "Get:62 http://archive.ubuntu.com/ubuntu bionic/universe amd64 qml-module-qtquick-dialogs amd64 5.9.5-0ubuntu1 [122 kB]\n",
            "Get:63 http://archive.ubuntu.com/ubuntu bionic/universe amd64 musescore amd64 2.1.0+dfsg3-3build1 [8,052 kB]\n",
            "Get:64 http://archive.ubuntu.com/ubuntu bionic-updates/main amd64 pulseaudio-utils amd64 1:11.1-1ubuntu7.11 [64.3 kB]\n",
            "Get:65 http://archive.ubuntu.com/ubuntu bionic/universe amd64 qsynth amd64 0.5.0-2 [191 kB]\n",
            "Get:66 http://archive.ubuntu.com/ubuntu bionic-updates/main amd64 wpasupplicant amd64 2:2.6-15ubuntu2.5 [954 kB]\n",
            "Get:67 http://archive.ubuntu.com/ubuntu bionic/main amd64 usb-modeswitch-data all 20170806-2 [30.7 kB]\n",
            "Get:68 http://archive.ubuntu.com/ubuntu bionic/main amd64 usb-modeswitch amd64 2.5.2+repack0-2ubuntu1 [53.6 kB]\n",
            "Fetched 176 MB in 10s (18.1 MB/s)\n",
            "Extracting templates from packages: 100%\n",
            "Selecting previously unselected package libdaemon0:amd64.\n",
            "(Reading database ... 144865 files and directories currently installed.)\n",
            "Preparing to unpack .../00-libdaemon0_0.14-6_amd64.deb ...\n",
            "Unpacking libdaemon0:amd64 (0.14-6) ...\n",
            "Selecting previously unselected package libqt5svg5:amd64.\n",
            "Preparing to unpack .../01-libqt5svg5_5.9.5-0ubuntu1_amd64.deb ...\n",
            "Unpacking libqt5svg5:amd64 (5.9.5-0ubuntu1) ...\n",
            "Selecting previously unselected package libcap2-bin.\n",
            "Preparing to unpack .../02-libcap2-bin_1%3a2.25-1.2_amd64.deb ...\n",
            "Unpacking libcap2-bin (1:2.25-1.2) ...\n",
            "Selecting previously unselected package libgstreamer1.0-0:amd64.\n",
            "Preparing to unpack .../03-libgstreamer1.0-0_1.14.5-0ubuntu1~18.04.1_amd64.deb ...\n",
            "Unpacking libgstreamer1.0-0:amd64 (1.14.5-0ubuntu1~18.04.1) ...\n",
            "Selecting previously unselected package liborc-0.4-0:amd64.\n",
            "Preparing to unpack .../04-liborc-0.4-0_1%3a0.4.28-1_amd64.deb ...\n",
            "Unpacking liborc-0.4-0:amd64 (1:0.4.28-1) ...\n",
            "Selecting previously unselected package libgstreamer-plugins-base1.0-0:amd64.\n",
            "Preparing to unpack .../05-libgstreamer-plugins-base1.0-0_1.14.5-0ubuntu1~18.04.1_amd64.deb ...\n",
            "Unpacking libgstreamer-plugins-base1.0-0:amd64 (1.14.5-0ubuntu1~18.04.1) ...\n",
            "Selecting previously unselected package libhyphen0:amd64.\n",
            "Preparing to unpack .../06-libhyphen0_2.8.8-5_amd64.deb ...\n",
            "Unpacking libhyphen0:amd64 (2.8.8-5) ...\n",
            "Selecting previously unselected package libqt5positioning5:amd64.\n",
            "Preparing to unpack .../07-libqt5positioning5_5.9.5+dfsg-0ubuntu2_amd64.deb ...\n",
            "Unpacking libqt5positioning5:amd64 (5.9.5+dfsg-0ubuntu2) ...\n",
            "Selecting previously unselected package libqt5qml5:amd64.\n",
            "Preparing to unpack .../08-libqt5qml5_5.9.5-0ubuntu1.1_amd64.deb ...\n",
            "Unpacking libqt5qml5:amd64 (5.9.5-0ubuntu1.1) ...\n",
            "Selecting previously unselected package libqt5quick5:amd64.\n",
            "Preparing to unpack .../09-libqt5quick5_5.9.5-0ubuntu1.1_amd64.deb ...\n",
            "Unpacking libqt5quick5:amd64 (5.9.5-0ubuntu1.1) ...\n",
            "Selecting previously unselected package libqt5sensors5:amd64.\n",
            "Preparing to unpack .../10-libqt5sensors5_5.9.5-0ubuntu1_amd64.deb ...\n",
            "Unpacking libqt5sensors5:amd64 (5.9.5-0ubuntu1) ...\n",
            "Selecting previously unselected package libqt5webchannel5:amd64.\n",
            "Preparing to unpack .../11-libqt5webchannel5_5.9.5-0ubuntu1_amd64.deb ...\n",
            "Unpacking libqt5webchannel5:amd64 (5.9.5-0ubuntu1) ...\n",
            "Selecting previously unselected package libbrotli1:amd64.\n",
            "Preparing to unpack .../12-libbrotli1_1.0.3-1ubuntu1.3_amd64.deb ...\n",
            "Unpacking libbrotli1:amd64 (1.0.3-1ubuntu1.3) ...\n",
            "Selecting previously unselected package libwoff1:amd64.\n",
            "Preparing to unpack .../13-libwoff1_1.0.2-1build0.1_amd64.deb ...\n",
            "Unpacking libwoff1:amd64 (1.0.2-1build0.1) ...\n",
            "Selecting previously unselected package libqt5webkit5:amd64.\n",
            "Preparing to unpack .../14-libqt5webkit5_5.212.0~alpha2-7ubuntu1_amd64.deb ...\n",
            "Unpacking libqt5webkit5:amd64 (5.212.0~alpha2-7ubuntu1) ...\n",
            "Selecting previously unselected package qml-module-qtquick-window2:amd64.\n",
            "Preparing to unpack .../15-qml-module-qtquick-window2_5.9.5-0ubuntu1.1_amd64.deb ...\n",
            "Unpacking qml-module-qtquick-window2:amd64 (5.9.5-0ubuntu1.1) ...\n",
            "Selecting previously unselected package qml-module-qtquick2:amd64.\n",
            "Preparing to unpack .../16-qml-module-qtquick2_5.9.5-0ubuntu1.1_amd64.deb ...\n",
            "Unpacking qml-module-qtquick2:amd64 (5.9.5-0ubuntu1.1) ...\n",
            "Selecting previously unselected package qml-module-qtgraphicaleffects:amd64.\n",
            "Preparing to unpack .../17-qml-module-qtgraphicaleffects_5.9.5-0ubuntu1_amd64.deb ...\n",
            "Unpacking qml-module-qtgraphicaleffects:amd64 (5.9.5-0ubuntu1) ...\n",
            "Selecting previously unselected package qml-module-qtquick-layouts:amd64.\n",
            "Preparing to unpack .../18-qml-module-qtquick-layouts_5.9.5-0ubuntu1.1_amd64.deb ...\n",
            "Unpacking qml-module-qtquick-layouts:amd64 (5.9.5-0ubuntu1.1) ...\n",
            "Selecting previously unselected package qml-module-qtquick-controls:amd64.\n",
            "Preparing to unpack .../19-qml-module-qtquick-controls_5.9.5-0ubuntu1_amd64.deb ...\n",
            "Unpacking qml-module-qtquick-controls:amd64 (5.9.5-0ubuntu1) ...\n",
            "Selecting previously unselected package libpam-cap:amd64.\n",
            "Preparing to unpack .../20-libpam-cap_1%3a2.25-1.2_amd64.deb ...\n",
            "Unpacking libpam-cap:amd64 (1:2.25-1.2) ...\n",
            "Selecting previously unselected package libisc169:amd64.\n",
            "Preparing to unpack .../21-libisc169_1%3a9.11.3+dfsg-1ubuntu1.13_amd64.deb ...\n",
            "Unpacking libisc169:amd64 (1:9.11.3+dfsg-1ubuntu1.13) ...\n",
            "Selecting previously unselected package libgeoip1:amd64.\n",
            "Preparing to unpack .../22-libgeoip1_1.6.12-1_amd64.deb ...\n",
            "Unpacking libgeoip1:amd64 (1.6.12-1) ...\n",
            "Selecting previously unselected package libdns1100:amd64.\n",
            "Preparing to unpack .../23-libdns1100_1%3a9.11.3+dfsg-1ubuntu1.13_amd64.deb ...\n",
            "Unpacking libdns1100:amd64 (1:9.11.3+dfsg-1ubuntu1.13) ...\n",
            "Selecting previously unselected package libisccc160:amd64.\n",
            "Preparing to unpack .../24-libisccc160_1%3a9.11.3+dfsg-1ubuntu1.13_amd64.deb ...\n",
            "Unpacking libisccc160:amd64 (1:9.11.3+dfsg-1ubuntu1.13) ...\n",
            "Selecting previously unselected package libisccfg160:amd64.\n",
            "Preparing to unpack .../25-libisccfg160_1%3a9.11.3+dfsg-1ubuntu1.13_amd64.deb ...\n",
            "Unpacking libisccfg160:amd64 (1:9.11.3+dfsg-1ubuntu1.13) ...\n",
            "Selecting previously unselected package libbind9-160:amd64.\n",
            "Preparing to unpack .../26-libbind9-160_1%3a9.11.3+dfsg-1ubuntu1.13_amd64.deb ...\n",
            "Unpacking libbind9-160:amd64 (1:9.11.3+dfsg-1ubuntu1.13) ...\n",
            "Selecting previously unselected package liblwres160:amd64.\n",
            "Preparing to unpack .../27-liblwres160_1%3a9.11.3+dfsg-1ubuntu1.13_amd64.deb ...\n",
            "Unpacking liblwres160:amd64 (1:9.11.3+dfsg-1ubuntu1.13) ...\n",
            "Selecting previously unselected package bind9-host.\n",
            "Preparing to unpack .../28-bind9-host_1%3a9.11.3+dfsg-1ubuntu1.13_amd64.deb ...\n",
            "Unpacking bind9-host (1:9.11.3+dfsg-1ubuntu1.13) ...\n",
            "Selecting previously unselected package geoip-database.\n",
            "Preparing to unpack .../29-geoip-database_20180315-1_all.deb ...\n",
            "Unpacking geoip-database (20180315-1) ...\n",
            "Selecting previously unselected package libavahi-core7:amd64.\n",
            "Preparing to unpack .../30-libavahi-core7_0.7-3.1ubuntu1.2_amd64.deb ...\n",
            "Unpacking libavahi-core7:amd64 (0.7-3.1ubuntu1.2) ...\n",
            "Selecting previously unselected package avahi-daemon.\n",
            "Preparing to unpack .../31-avahi-daemon_0.7-3.1ubuntu1.2_amd64.deb ...\n",
            "Unpacking avahi-daemon (0.7-3.1ubuntu1.2) ...\n",
            "Selecting previously unselected package desktop-file-utils.\n",
            "Preparing to unpack .../32-desktop-file-utils_0.23-1ubuntu3.18.04.2_amd64.deb ...\n",
            "Unpacking desktop-file-utils (0.23-1ubuntu3.18.04.2) ...\n",
            "Selecting previously unselected package fluid-soundfont-gm.\n",
            "Preparing to unpack .../33-fluid-soundfont-gm_3.1-5.1_all.deb ...\n",
            "Unpacking fluid-soundfont-gm (3.1-5.1) ...\n",
            "Selecting previously unselected package fluidr3mono-gm-soundfont.\n",
            "Preparing to unpack .../34-fluidr3mono-gm-soundfont_2.315-4_all.deb ...\n",
            "Unpacking fluidr3mono-gm-soundfont (2.315-4) ...\n",
            "Selecting previously unselected package libfluidsynth1:amd64.\n",
            "Preparing to unpack .../35-libfluidsynth1_1.1.9-1_amd64.deb ...\n",
            "Unpacking libfluidsynth1:amd64 (1.1.9-1) ...\n",
            "Selecting previously unselected package fluidsynth.\n",
            "Preparing to unpack .../36-fluidsynth_1.1.9-1_amd64.deb ...\n",
            "Unpacking fluidsynth (1.1.9-1) ...\n",
            "Selecting previously unselected package libavahi-glib1:amd64.\n",
            "Preparing to unpack .../37-libavahi-glib1_0.7-3.1ubuntu1.2_amd64.deb ...\n",
            "Unpacking libavahi-glib1:amd64 (0.7-3.1ubuntu1.2) ...\n",
            "Selecting previously unselected package libgeoclue-2-0:amd64.\n",
            "Preparing to unpack .../38-libgeoclue-2-0_2.4.7-1ubuntu1_amd64.deb ...\n",
            "Unpacking libgeoclue-2-0:amd64 (2.4.7-1ubuntu1) ...\n",
            "Selecting previously unselected package libmm-glib0:amd64.\n",
            "Preparing to unpack .../39-libmm-glib0_1.10.0-1~ubuntu18.04.2_amd64.deb ...\n",
            "Unpacking libmm-glib0:amd64 (1.10.0-1~ubuntu18.04.2) ...\n",
            "Selecting previously unselected package geoclue-2.0.\n",
            "Preparing to unpack .../40-geoclue-2.0_2.4.7-1ubuntu1_amd64.deb ...\n",
            "Unpacking geoclue-2.0 (2.4.7-1ubuntu1) ...\n",
            "Selecting previously unselected package libcdparanoia0:amd64.\n",
            "Preparing to unpack .../41-libcdparanoia0_3.10.2+debian-13_amd64.deb ...\n",
            "Unpacking libcdparanoia0:amd64 (3.10.2+debian-13) ...\n",
            "Selecting previously unselected package libvisual-0.4-0:amd64.\n",
            "Preparing to unpack .../42-libvisual-0.4-0_0.4.0-11_amd64.deb ...\n",
            "Unpacking libvisual-0.4-0:amd64 (0.4.0-11) ...\n",
            "Selecting previously unselected package gstreamer1.0-plugins-base:amd64.\n",
            "Preparing to unpack .../43-gstreamer1.0-plugins-base_1.14.5-0ubuntu1~18.04.1_amd64.deb ...\n",
            "Unpacking gstreamer1.0-plugins-base:amd64 (1.14.5-0ubuntu1~18.04.1) ...\n",
            "Selecting previously unselected package iio-sensor-proxy.\n",
            "Preparing to unpack .../44-iio-sensor-proxy_2.4-2_amd64.deb ...\n",
            "Unpacking iio-sensor-proxy (2.4-2) ...\n",
            "Selecting previously unselected package libgl1-mesa-glx:amd64.\n",
            "Preparing to unpack .../45-libgl1-mesa-glx_20.0.8-0ubuntu1~18.04.1_amd64.deb ...\n",
            "Unpacking libgl1-mesa-glx:amd64 (20.0.8-0ubuntu1~18.04.1) ...\n",
            "Selecting previously unselected package libmbim-glib4:amd64.\n",
            "Preparing to unpack .../46-libmbim-glib4_1.18.0-1~ubuntu18.04.1_amd64.deb ...\n",
            "Unpacking libmbim-glib4:amd64 (1.18.0-1~ubuntu18.04.1) ...\n",
            "Selecting previously unselected package libmbim-proxy.\n",
            "Preparing to unpack .../47-libmbim-proxy_1.18.0-1~ubuntu18.04.1_amd64.deb ...\n",
            "Unpacking libmbim-proxy (1.18.0-1~ubuntu18.04.1) ...\n",
            "Selecting previously unselected package libnl-genl-3-200:amd64.\n",
            "Preparing to unpack .../48-libnl-genl-3-200_3.2.29-0ubuntu3_amd64.deb ...\n",
            "Unpacking libnl-genl-3-200:amd64 (3.2.29-0ubuntu3) ...\n",
            "Selecting previously unselected package libnss-mdns:amd64.\n",
            "Preparing to unpack .../49-libnss-mdns_0.10-8ubuntu1_amd64.deb ...\n",
            "Unpacking libnss-mdns:amd64 (0.10-8ubuntu1) ...\n",
            "Selecting previously unselected package libportaudio2:amd64.\n",
            "Preparing to unpack .../50-libportaudio2_19.6.0-1_amd64.deb ...\n",
            "Unpacking libportaudio2:amd64 (19.6.0-1) ...\n",
            "Selecting previously unselected package libpulsedsp:amd64.\n",
            "Preparing to unpack .../51-libpulsedsp_1%3a11.1-1ubuntu7.11_amd64.deb ...\n",
            "Unpacking libpulsedsp:amd64 (1:11.1-1ubuntu7.11) ...\n",
            "Selecting previously unselected package libqmi-glib5:amd64.\n",
            "Preparing to unpack .../52-libqmi-glib5_1.22.0-1.2~ubuntu18.04.1_amd64.deb ...\n",
            "Unpacking libqmi-glib5:amd64 (1.22.0-1.2~ubuntu18.04.1) ...\n",
            "Selecting previously unselected package libqmi-proxy.\n",
            "Preparing to unpack .../53-libqmi-proxy_1.22.0-1.2~ubuntu18.04.1_amd64.deb ...\n",
            "Unpacking libqmi-proxy (1.22.0-1.2~ubuntu18.04.1) ...\n",
            "Selecting previously unselected package libqt5help5:amd64.\n",
            "Preparing to unpack .../54-libqt5help5_5.9.5-0ubuntu1_amd64.deb ...\n",
            "Unpacking libqt5help5:amd64 (5.9.5-0ubuntu1) ...\n",
            "Selecting previously unselected package libqt5sql5-sqlite:amd64.\n",
            "Preparing to unpack .../55-libqt5sql5-sqlite_5.9.5+dfsg-0ubuntu2.5_amd64.deb ...\n",
            "Unpacking libqt5sql5-sqlite:amd64 (5.9.5+dfsg-0ubuntu2.5) ...\n",
            "Selecting previously unselected package libqt5x11extras5:amd64.\n",
            "Preparing to unpack .../56-libqt5x11extras5_5.9.5-0ubuntu1_amd64.deb ...\n",
            "Unpacking libqt5x11extras5:amd64 (5.9.5-0ubuntu1) ...\n",
            "Selecting previously unselected package libqt5xmlpatterns5:amd64.\n",
            "Preparing to unpack .../57-libqt5xmlpatterns5_5.9.5-0ubuntu1_amd64.deb ...\n",
            "Unpacking libqt5xmlpatterns5:amd64 (5.9.5-0ubuntu1) ...\n",
            "Selecting previously unselected package modemmanager.\n",
            "Preparing to unpack .../58-modemmanager_1.10.0-1~ubuntu18.04.2_amd64.deb ...\n",
            "Unpacking modemmanager (1.10.0-1~ubuntu18.04.2) ...\n",
            "Selecting previously unselected package musescore-common.\n",
            "Preparing to unpack .../59-musescore-common_2.1.0+dfsg3-3build1_all.deb ...\n",
            "Unpacking musescore-common (2.1.0+dfsg3-3build1) ...\n",
            "Selecting previously unselected package qml-module-qtquick-privatewidgets:amd64.\n",
            "Preparing to unpack .../60-qml-module-qtquick-privatewidgets_5.9.5-0ubuntu1_amd64.deb ...\n",
            "Unpacking qml-module-qtquick-privatewidgets:amd64 (5.9.5-0ubuntu1) ...\n",
            "Selecting previously unselected package qml-module-qtquick-dialogs:amd64.\n",
            "Preparing to unpack .../61-qml-module-qtquick-dialogs_5.9.5-0ubuntu1_amd64.deb ...\n",
            "Unpacking qml-module-qtquick-dialogs:amd64 (5.9.5-0ubuntu1) ...\n",
            "Selecting previously unselected package musescore.\n",
            "Preparing to unpack .../62-musescore_2.1.0+dfsg3-3build1_amd64.deb ...\n",
            "Unpacking musescore (2.1.0+dfsg3-3build1) ...\n",
            "Selecting previously unselected package pulseaudio-utils.\n",
            "Preparing to unpack .../63-pulseaudio-utils_1%3a11.1-1ubuntu7.11_amd64.deb ...\n",
            "Unpacking pulseaudio-utils (1:11.1-1ubuntu7.11) ...\n",
            "Selecting previously unselected package qsynth.\n",
            "Preparing to unpack .../64-qsynth_0.5.0-2_amd64.deb ...\n",
            "Unpacking qsynth (0.5.0-2) ...\n",
            "Selecting previously unselected package wpasupplicant.\n",
            "Preparing to unpack .../65-wpasupplicant_2%3a2.6-15ubuntu2.5_amd64.deb ...\n",
            "Unpacking wpasupplicant (2:2.6-15ubuntu2.5) ...\n",
            "Selecting previously unselected package usb-modeswitch-data.\n",
            "Preparing to unpack .../66-usb-modeswitch-data_20170806-2_all.deb ...\n",
            "Unpacking usb-modeswitch-data (20170806-2) ...\n",
            "Selecting previously unselected package usb-modeswitch.\n",
            "Preparing to unpack .../67-usb-modeswitch_2.5.2+repack0-2ubuntu1_amd64.deb ...\n",
            "Unpacking usb-modeswitch (2.5.2+repack0-2ubuntu1) ...\n",
            "Setting up libqt5qml5:amd64 (5.9.5-0ubuntu1.1) ...\n",
            "Setting up libbrotli1:amd64 (1.0.3-1ubuntu1.3) ...\n",
            "Setting up libqt5quick5:amd64 (5.9.5-0ubuntu1.1) ...\n",
            "Setting up libisc169:amd64 (1:9.11.3+dfsg-1ubuntu1.13) ...\n",
            "Setting up libqt5sensors5:amd64 (5.9.5-0ubuntu1) ...\n",
            "Setting up qml-module-qtquick2:amd64 (5.9.5-0ubuntu1.1) ...\n",
            "Setting up fluidr3mono-gm-soundfont (2.315-4) ...\n",
            "Setting up libdaemon0:amd64 (0.14-6) ...\n",
            "Setting up libisccc160:amd64 (1:9.11.3+dfsg-1ubuntu1.13) ...\n",
            "Setting up libmbim-glib4:amd64 (1.18.0-1~ubuntu18.04.1) ...\n",
            "Setting up libqt5x11extras5:amd64 (5.9.5-0ubuntu1) ...\n",
            "Setting up libpam-cap:amd64 (1:2.25-1.2) ...\n",
            "Setting up libportaudio2:amd64 (19.6.0-1) ...\n",
            "Setting up iio-sensor-proxy (2.4-2) ...\n",
            "Setting up libwoff1:amd64 (1.0.2-1build0.1) ...\n",
            "Setting up libpulsedsp:amd64 (1:11.1-1ubuntu7.11) ...\n",
            "Setting up desktop-file-utils (0.23-1ubuntu3.18.04.2) ...\n",
            "Setting up geoip-database (20180315-1) ...\n",
            "Setting up pulseaudio-utils (1:11.1-1ubuntu7.11) ...\n",
            "Setting up libcap2-bin (1:2.25-1.2) ...\n",
            "Setting up qml-module-qtquick-layouts:amd64 (5.9.5-0ubuntu1.1) ...\n",
            "Setting up fluid-soundfont-gm (3.1-5.1) ...\n",
            "Setting up libnl-genl-3-200:amd64 (3.2.29-0ubuntu3) ...\n",
            "Setting up libgeoip1:amd64 (1.6.12-1) ...\n",
            "Setting up libcdparanoia0:amd64 (3.10.2+debian-13) ...\n",
            "Setting up libqt5help5:amd64 (5.9.5-0ubuntu1) ...\n",
            "Setting up libmbim-proxy (1.18.0-1~ubuntu18.04.1) ...\n",
            "Setting up usb-modeswitch-data (20170806-2) ...\n",
            "Setting up libqt5sql5-sqlite:amd64 (5.9.5+dfsg-0ubuntu2.5) ...\n",
            "Setting up libhyphen0:amd64 (2.8.8-5) ...\n",
            "Setting up libqt5xmlpatterns5:amd64 (5.9.5-0ubuntu1) ...\n",
            "Setting up musescore-common (2.1.0+dfsg3-3build1) ...\n",
            "Setting up usb-modeswitch (2.5.2+repack0-2ubuntu1) ...\n",
            "Setting up libmm-glib0:amd64 (1.10.0-1~ubuntu18.04.2) ...\n",
            "Setting up qml-module-qtquick-privatewidgets:amd64 (5.9.5-0ubuntu1) ...\n",
            "Setting up libgl1-mesa-glx:amd64 (20.0.8-0ubuntu1~18.04.1) ...\n",
            "Setting up libqt5positioning5:amd64 (5.9.5+dfsg-0ubuntu2) ...\n",
            "Setting up libqt5svg5:amd64 (5.9.5-0ubuntu1) ...\n",
            "Setting up qml-module-qtquick-window2:amd64 (5.9.5-0ubuntu1.1) ...\n",
            "Setting up qml-module-qtquick-dialogs:amd64 (5.9.5-0ubuntu1) ...\n",
            "Setting up libvisual-0.4-0:amd64 (0.4.0-11) ...\n",
            "Setting up liborc-0.4-0:amd64 (1:0.4.28-1) ...\n",
            "Setting up libavahi-glib1:amd64 (0.7-3.1ubuntu1.2) ...\n",
            "Setting up libqt5webchannel5:amd64 (5.9.5-0ubuntu1) ...\n",
            "Setting up libdns1100:amd64 (1:9.11.3+dfsg-1ubuntu1.13) ...\n",
            "Setting up libfluidsynth1:amd64 (1.1.9-1) ...\n",
            "Setting up liblwres160:amd64 (1:9.11.3+dfsg-1ubuntu1.13) ...\n",
            "Setting up libavahi-core7:amd64 (0.7-3.1ubuntu1.2) ...\n",
            "Setting up libgstreamer1.0-0:amd64 (1.14.5-0ubuntu1~18.04.1) ...\n",
            "Setcap worked! gst-ptp-helper is not suid!\n",
            "Setting up fluidsynth (1.1.9-1) ...\n",
            "Setting up qml-module-qtgraphicaleffects:amd64 (5.9.5-0ubuntu1) ...\n",
            "Setting up wpasupplicant (2:2.6-15ubuntu2.5) ...\n",
            "Created symlink /etc/systemd/system/dbus-fi.w1.wpa_supplicant1.service → /lib/systemd/system/wpa_supplicant.service.\n",
            "Created symlink /etc/systemd/system/multi-user.target.wants/wpa_supplicant.service → /lib/systemd/system/wpa_supplicant.service.\n",
            "Setting up libqmi-glib5:amd64 (1.22.0-1.2~ubuntu18.04.1) ...\n",
            "Setting up libqmi-proxy (1.22.0-1.2~ubuntu18.04.1) ...\n",
            "Setting up libisccfg160:amd64 (1:9.11.3+dfsg-1ubuntu1.13) ...\n",
            "Setting up qsynth (0.5.0-2) ...\n",
            "Setting up qml-module-qtquick-controls:amd64 (5.9.5-0ubuntu1) ...\n",
            "Setting up libgstreamer-plugins-base1.0-0:amd64 (1.14.5-0ubuntu1~18.04.1) ...\n",
            "Setting up gstreamer1.0-plugins-base:amd64 (1.14.5-0ubuntu1~18.04.1) ...\n",
            "Setting up libqt5webkit5:amd64 (5.212.0~alpha2-7ubuntu1) ...\n",
            "Setting up modemmanager (1.10.0-1~ubuntu18.04.2) ...\n",
            "Created symlink /etc/systemd/system/dbus-org.freedesktop.ModemManager1.service → /lib/systemd/system/ModemManager.service.\n",
            "Created symlink /etc/systemd/system/multi-user.target.wants/ModemManager.service → /lib/systemd/system/ModemManager.service.\n",
            "Setting up libbind9-160:amd64 (1:9.11.3+dfsg-1ubuntu1.13) ...\n",
            "Setting up bind9-host (1:9.11.3+dfsg-1ubuntu1.13) ...\n",
            "Setting up musescore (2.1.0+dfsg3-3build1) ...\n",
            "Setting up avahi-daemon (0.7-3.1ubuntu1.2) ...\n",
            "invoke-rc.d: could not determine current runlevel\n",
            "invoke-rc.d: policy-rc.d denied execution of force-reload.\n",
            "Created symlink /etc/systemd/system/dbus-org.freedesktop.Avahi.service → /lib/systemd/system/avahi-daemon.service.\n",
            "Created symlink /etc/systemd/system/multi-user.target.wants/avahi-daemon.service → /lib/systemd/system/avahi-daemon.service.\n",
            "Created symlink /etc/systemd/system/sockets.target.wants/avahi-daemon.socket → /lib/systemd/system/avahi-daemon.socket.\n",
            "invoke-rc.d: could not determine current runlevel\n",
            "invoke-rc.d: policy-rc.d denied execution of start.\n",
            "Setting up libnss-mdns:amd64 (0.10-8ubuntu1) ...\n",
            "First installation detected...\n",
            "Checking NSS setup...\n",
            "Setting up libgeoclue-2-0:amd64 (2.4.7-1ubuntu1) ...\n",
            "Setting up geoclue-2.0 (2.4.7-1ubuntu1) ...\n",
            "Processing triggers for libc-bin (2.27-3ubuntu1.2) ...\n",
            "/sbin/ldconfig.real: /usr/local/lib/python3.6/dist-packages/ideep4py/lib/libmkldnn.so.0 is not a symbolic link\n",
            "\n",
            "Processing triggers for systemd (237-3ubuntu10.43) ...\n",
            "Processing triggers for man-db (2.8.3-2ubuntu0.1) ...\n",
            "Processing triggers for shared-mime-info (1.9-2) ...\n",
            "Processing triggers for dbus (1.12.2-1ubuntu1.2) ...\n",
            "Processing triggers for hicolor-icon-theme (0.17-2) ...\n",
            "Processing triggers for mime-support (3.60ubuntu1) ...\n",
            "Requirement already satisfied: torch in /usr/local/lib/python3.6/dist-packages (1.7.0+cu101)\n",
            "Requirement already satisfied: fastai in /usr/local/lib/python3.6/dist-packages (1.0.61)\n",
            "Requirement already satisfied: music21 in /usr/local/lib/python3.6/dist-packages (5.5.0)\n",
            "Collecting pebble\n",
            "  Downloading https://files.pythonhosted.org/packages/fb/e1/cb63079456c9cd5180a9dfabe776870d367d1727699b99958d1fb7d667c6/Pebble-4.5.3-py2.py3-none-any.whl\n",
            "Collecting fluidsynth\n",
            "  Downloading https://files.pythonhosted.org/packages/87/db/471488e0ac26ffd0b73e49f1fedc3b557195f45aa0d1e6e9193c510024d3/fluidsynth-0.2.tar.gz\n",
            "Collecting midi2audio\n",
            "  Downloading https://files.pythonhosted.org/packages/55/75/23618a687fc2391192c9d9ec8906a198a3f318f146388d3b96f779826d43/midi2audio-0.1.1-py2.py3-none-any.whl\n",
            "Requirement already satisfied: future in /usr/local/lib/python3.6/dist-packages (from torch) (0.16.0)\n",
            "Requirement already satisfied: dataclasses in /usr/local/lib/python3.6/dist-packages (from torch) (0.8)\n",
            "Requirement already satisfied: typing-extensions in /usr/local/lib/python3.6/dist-packages (from torch) (3.7.4.3)\n",
            "Requirement already satisfied: numpy in /usr/local/lib/python3.6/dist-packages (from torch) (1.18.5)\n",
            "Requirement already satisfied: numexpr in /usr/local/lib/python3.6/dist-packages (from fastai) (2.7.1)\n",
            "Requirement already satisfied: beautifulsoup4 in /usr/local/lib/python3.6/dist-packages (from fastai) (4.6.3)\n",
            "Requirement already satisfied: nvidia-ml-py3 in /usr/local/lib/python3.6/dist-packages (from fastai) (7.352.0)\n",
            "Requirement already satisfied: fastprogress>=0.2.1 in /usr/local/lib/python3.6/dist-packages (from fastai) (1.0.0)\n",
            "Requirement already satisfied: pyyaml in /usr/local/lib/python3.6/dist-packages (from fastai) (3.13)\n",
            "Requirement already satisfied: scipy in /usr/local/lib/python3.6/dist-packages (from fastai) (1.4.1)\n",
            "Requirement already satisfied: Pillow in /usr/local/lib/python3.6/dist-packages (from fastai) (7.0.0)\n",
            "Requirement already satisfied: packaging in /usr/local/lib/python3.6/dist-packages (from fastai) (20.4)\n",
            "Requirement already satisfied: requests in /usr/local/lib/python3.6/dist-packages (from fastai) (2.23.0)\n",
            "Requirement already satisfied: torchvision in /usr/local/lib/python3.6/dist-packages (from fastai) (0.8.1+cu101)\n",
            "Requirement already satisfied: spacy>=2.0.18; python_version < \"3.8\" in /usr/local/lib/python3.6/dist-packages (from fastai) (2.2.4)\n",
            "Requirement already satisfied: pandas in /usr/local/lib/python3.6/dist-packages (from fastai) (1.1.4)\n",
            "Requirement already satisfied: matplotlib in /usr/local/lib/python3.6/dist-packages (from fastai) (3.2.2)\n",
            "Requirement already satisfied: bottleneck in /usr/local/lib/python3.6/dist-packages (from fastai) (1.3.2)\n",
            "Requirement already satisfied: pyparsing>=2.0.2 in /usr/local/lib/python3.6/dist-packages (from packaging->fastai) (2.4.7)\n",
            "Requirement already satisfied: six in /usr/local/lib/python3.6/dist-packages (from packaging->fastai) (1.15.0)\n",
            "Requirement already satisfied: chardet<4,>=3.0.2 in /usr/local/lib/python3.6/dist-packages (from requests->fastai) (3.0.4)\n",
            "Requirement already satisfied: idna<3,>=2.5 in /usr/local/lib/python3.6/dist-packages (from requests->fastai) (2.10)\n",
            "Requirement already satisfied: certifi>=2017.4.17 in /usr/local/lib/python3.6/dist-packages (from requests->fastai) (2020.11.8)\n",
            "Requirement already satisfied: urllib3!=1.25.0,!=1.25.1,<1.26,>=1.21.1 in /usr/local/lib/python3.6/dist-packages (from requests->fastai) (1.24.3)\n",
            "Requirement already satisfied: blis<0.5.0,>=0.4.0 in /usr/local/lib/python3.6/dist-packages (from spacy>=2.0.18; python_version < \"3.8\"->fastai) (0.4.1)\n",
            "Requirement already satisfied: wasabi<1.1.0,>=0.4.0 in /usr/local/lib/python3.6/dist-packages (from spacy>=2.0.18; python_version < \"3.8\"->fastai) (0.8.0)\n",
            "Requirement already satisfied: murmurhash<1.1.0,>=0.28.0 in /usr/local/lib/python3.6/dist-packages (from spacy>=2.0.18; python_version < \"3.8\"->fastai) (1.0.4)\n",
            "Requirement already satisfied: tqdm<5.0.0,>=4.38.0 in /usr/local/lib/python3.6/dist-packages (from spacy>=2.0.18; python_version < \"3.8\"->fastai) (4.41.1)\n",
            "Requirement already satisfied: plac<1.2.0,>=0.9.6 in /usr/local/lib/python3.6/dist-packages (from spacy>=2.0.18; python_version < \"3.8\"->fastai) (1.1.3)\n",
            "Requirement already satisfied: srsly<1.1.0,>=1.0.2 in /usr/local/lib/python3.6/dist-packages (from spacy>=2.0.18; python_version < \"3.8\"->fastai) (1.0.4)\n",
            "Requirement already satisfied: thinc==7.4.0 in /usr/local/lib/python3.6/dist-packages (from spacy>=2.0.18; python_version < \"3.8\"->fastai) (7.4.0)\n",
            "Requirement already satisfied: setuptools in /usr/local/lib/python3.6/dist-packages (from spacy>=2.0.18; python_version < \"3.8\"->fastai) (50.3.2)\n",
            "Requirement already satisfied: preshed<3.1.0,>=3.0.2 in /usr/local/lib/python3.6/dist-packages (from spacy>=2.0.18; python_version < \"3.8\"->fastai) (3.0.4)\n",
            "Requirement already satisfied: catalogue<1.1.0,>=0.0.7 in /usr/local/lib/python3.6/dist-packages (from spacy>=2.0.18; python_version < \"3.8\"->fastai) (1.0.0)\n",
            "Requirement already satisfied: cymem<2.1.0,>=2.0.2 in /usr/local/lib/python3.6/dist-packages (from spacy>=2.0.18; python_version < \"3.8\"->fastai) (2.0.4)\n",
            "Requirement already satisfied: python-dateutil>=2.7.3 in /usr/local/lib/python3.6/dist-packages (from pandas->fastai) (2.8.1)\n",
            "Requirement already satisfied: pytz>=2017.2 in /usr/local/lib/python3.6/dist-packages (from pandas->fastai) (2018.9)\n",
            "Requirement already satisfied: cycler>=0.10 in /usr/local/lib/python3.6/dist-packages (from matplotlib->fastai) (0.10.0)\n",
            "Requirement already satisfied: kiwisolver>=1.0.1 in /usr/local/lib/python3.6/dist-packages (from matplotlib->fastai) (1.3.1)\n",
            "Requirement already satisfied: importlib-metadata>=0.20; python_version < \"3.8\" in /usr/local/lib/python3.6/dist-packages (from catalogue<1.1.0,>=0.0.7->spacy>=2.0.18; python_version < \"3.8\"->fastai) (2.0.0)\n",
            "Requirement already satisfied: zipp>=0.5 in /usr/local/lib/python3.6/dist-packages (from importlib-metadata>=0.20; python_version < \"3.8\"->catalogue<1.1.0,>=0.0.7->spacy>=2.0.18; python_version < \"3.8\"->fastai) (3.4.0)\n",
            "Building wheels for collected packages: fluidsynth\n",
            "  Building wheel for fluidsynth (setup.py) ... \u001b[?25l\u001b[?25hdone\n",
            "  Created wheel for fluidsynth: filename=fluidsynth-0.2-cp36-none-any.whl size=4513 sha256=968b711bc20933c7f7b661103d40cc37216daca50230ae1e3ae13c8251468260\n",
            "  Stored in directory: /root/.cache/pip/wheels/2d/70/4d/ffe2589bbfe9c268780570a6875583fbf59547004459e2c3c3\n",
            "Successfully built fluidsynth\n",
            "Installing collected packages: pebble, fluidsynth, midi2audio\n",
            "Successfully installed fluidsynth-0.2 midi2audio-0.1.1 pebble-4.5.3\n"
          ],
          "name": "stdout"
        }
      ]
    },
    {
      "cell_type": "code",
      "metadata": {
        "colab": {
          "base_uri": "https://localhost:8080/",
          "height": 35
        },
        "id": "qoAgOqiqxyAI",
        "outputId": "90dcea4c-21c3-4d43-b7df-eea1baa39c27"
      },
      "source": [
        "from musicautobot.numpy_encode import *\n",
        "from musicautobot.config import *\n",
        "from musicautobot.music_transformer import *\n",
        "from musicautobot.multitask_transformer import *\n",
        "from musicautobot.utils import midifile\n",
        "\n",
        "os.chdir('..')\n",
        "os.getcwd()"
      ],
      "execution_count": null,
      "outputs": [
        {
          "output_type": "execute_result",
          "data": {
            "application/vnd.google.colaboratory.intrinsic+json": {
              "type": "string"
            },
            "text/plain": [
              "'/gdrive/My Drive/CS470/cs470_music_generator'"
            ]
          },
          "metadata": {
            "tags": []
          },
          "execution_count": 11
        }
      ]
    },
    {
      "cell_type": "code",
      "metadata": {
        "id": "ett4Bt8xwc3r"
      },
      "source": [
        "with open(\"data/dataset_np.pkl\", \"rb\") as fd:\n",
        "  music_data = pickle.load(fd)\n",
        "\n",
        "with open(\"data/music_vocab.pkl\", \"rb\") as fd:\n",
        "  music_vocab = pickle.load(fd)\n",
        "  \n",
        "train_data = list(map(lambda x: x[\"np\"], music_data))\n",
        "X_train = np.concatenate(train_data, axis=0)\n",
        "music_arr = np.array(list(set(X_train)))\n",
        "n_characters = len(music_arr)"
      ],
      "execution_count": null,
      "outputs": []
    },
    {
      "cell_type": "code",
      "metadata": {
        "id": "djVRVpsFxvc_"
      },
      "source": [
        "def plot_music(x):\n",
        "  npenc = idxenc2npenc(x, music_vocab)\n",
        "  item = MusicItem.from_npenc(npenc, music_vocab)\n",
        "  item.show()\n",
        "  return item"
      ],
      "execution_count": null,
      "outputs": []
    },
    {
      "cell_type": "code",
      "metadata": {
        "colab": {
          "base_uri": "https://localhost:8080/"
        },
        "id": "cA9jsk2Du-0y",
        "outputId": "f1749fc3-6e01-4835-ce83-2b133f91c6fa"
      },
      "source": [
        "embed = False\n",
        "transformer = False\n",
        "\n",
        "input_size = n_characters\n",
        "hidden_size = 64 if embed else 256 \n",
        "num_layers = 1 # one-layer rnn\n",
        "output_size = n_characters\n",
        "batch_size = 8\n",
        "input_size\n",
        "\n",
        "if transformer:\n",
        "  music_model = nn.Transformer(d_model=n_characters, nhead=13, num_encoder_layers=1, num_decoder_layers=1).to(device)\n",
        "else:\n",
        "  music_model = Model(input_size, hidden_size, num_layers, output_size, embed).to(device)\n",
        "\n",
        "music_model"
      ],
      "execution_count": null,
      "outputs": [
        {
          "output_type": "execute_result",
          "data": {
            "text/plain": [
              "Model(\n",
              "  (cell): GRU(169, 256, batch_first=True)\n",
              "  (fc): Linear(in_features=256, out_features=169, bias=True)\n",
              "  (encoder): Embedding(169, 256)\n",
              ")"
            ]
          },
          "metadata": {
            "tags": []
          },
          "execution_count": 14
        }
      ]
    },
    {
      "cell_type": "code",
      "metadata": {
        "id": "ZmYGnWffrmCW"
      },
      "source": [
        "def generate(model, max_n=None, max_tokens=300, temperature=0.7, top_k=32, arr=None, embed=None, lyrics=False):\n",
        "    text = []\n",
        "    letter = random.randint(0, max_n)  \n",
        "    if embed:\n",
        "      letter = [letter]\n",
        "    if lyrics:\n",
        "      letter = [word_mapping(arr, letter)]\n",
        "    if type(letter) == list:\n",
        "      text.append(letter[0])\n",
        "    else:\n",
        "      text.append(word_mapping(arr, letter) if lyrics else letter)\n",
        "    hidden = model._init_hidden(1)\n",
        "    with torch.no_grad():\n",
        "        for i in range(max_tokens):\n",
        "          tmp = word_encode(arr, letter)\n",
        "          if embed:\n",
        "            letter, hidden = model.forward2(torch.LongTensor(np.argmax(tmp, axis=1)).unsqueeze(0).to(device), hidden)\n",
        "          else:\n",
        "            letter, hidden = model.forward2(torch.FloatTensor(tmp).unsqueeze(0).to(device), hidden)\n",
        "          if (i+1)%2 == 0:\n",
        "              letter = arr[torch.multinomial(F.softmax(letter.view(1,-1)),1)]\n",
        "          else:\n",
        "              letter = arr[letter.view(1,-1).argmax(1)]\n",
        "          text.append(letter)\n",
        "    if embed:\n",
        "      tmp = [i if type(i) != list else i[0] for i in text]\n",
        "      text = tmp\n",
        "    return text"
      ],
      "execution_count": null,
      "outputs": []
    },
    {
      "cell_type": "code",
      "metadata": {
        "id": "TpKCWMTLu3rv"
      },
      "source": [
        "music_model = torch.load(\"models/model_music1.pt\")\n",
        "lyrics_model = torch.load(\"models/model_lyrics1.pt\")"
      ],
      "execution_count": null,
      "outputs": []
    },
    {
      "cell_type": "code",
      "metadata": {
        "id": "knqTzoBU6F1c"
      },
      "source": [
        "with open(\"data/words_arr.pkl\", \"br\") as fd:\n",
        "  words_arr = pickle.load(fd)\n",
        "\n",
        "with open(\"data/music_arr.pkl\", \"br\") as fd:\n",
        "  music_arr = pickle.load(fd)"
      ],
      "execution_count": null,
      "outputs": []
    },
    {
      "cell_type": "code",
      "metadata": {
        "colab": {
          "base_uri": "https://localhost:8080/",
          "height": 839
        },
        "id": "sl7kmlsyu0xe",
        "outputId": "a60871e3-8b5a-404d-ae97-0b94f6fe5d64"
      },
      "source": [
        "lyrics_length = 500\n",
        "\n",
        "output = generate(music_model, max_n=n_characters, max_tokens=lyrics_length, arr=music_arr, embed=embed)\n",
        "item = plot_music(np.array(output))\n",
        "\n",
        "output = generate(lyrics_model, max_n=n_words, max_tokens=200, arr=words_arr, embed=False, lyrics=True)\n",
        "print(' '.join(output))"
      ],
      "execution_count": null,
      "outputs": [
        {
          "output_type": "stream",
          "text": [
            "/usr/local/lib/python3.6/dist-packages/ipykernel_launcher.py:21: UserWarning: Implicit dimension choice for softmax has been deprecated. Change the call to include dim=X as an argument.\n"
          ],
          "name": "stderr"
        },
        {
          "output_type": "display_data",
          "data": {
            "image/png": "[encoded data removed]",
            "text/plain": [
              "<IPython.core.display.Image object>"
            ]
          },
          "metadata": {
            "tags": [],
            "image/png": {
              "width": 751,
              "height": 301
            }
          }
        },
        {
          "output_type": "stream",
          "text": [
            "earth to me but ive got something to say \n",
            " just like that love was one \n",
            " to each other by love \n",
            " to each other by love \n",
            " whoever knew that we too could be free as we fancied \n",
            " fancy is free but are you are queen \n",
            " we will it to be sad \n",
            " and i will take her out tonight \n",
            " and i will treat her kind \n",
            " dont you realise its all right \n",
            " oh yeah \n",
            " cant do that you cant rock it like this \n",
            " you cant get it with you \n",
            " cause the night you \n",
            " was a man from the motor trade \n",
            " she what did we do that was wrong \n",
            " is having we didnt know it was wrong \n",
            " fun fun is the one thing want to find the more \n",
            " its gonna be a drag misery \n",
            " ill let you dance with you \n",
            " you know the name love \n",
            " taxman \n",
            " click my finger \n",
            " shes in your hands off your fingers \n",
            " you dont know how lucky you are boy \n",
            " ooh \n",
            " ooh \n",
            " aw \n",
            " run and tell your mama \n",
            " i want you to\n"
          ],
          "name": "stdout"
        }
      ]
    },
    {
      "cell_type": "code",
      "metadata": {
        "id": "v_ierTgExHbB",
        "colab": {
          "base_uri": "https://localhost:8080/",
          "height": 35
        },
        "outputId": "525ccd1b-07d3-44c5-815d-f852b50c3542"
      },
      "source": [
        "item.stream.write('midi', fp='music/song2.midi')"
      ],
      "execution_count": null,
      "outputs": [
        {
          "output_type": "execute_result",
          "data": {
            "application/vnd.google.colaboratory.intrinsic+json": {
              "type": "string"
            },
            "text/plain": [
              "'music/song2.midi'"
            ]
          },
          "metadata": {
            "tags": []
          },
          "execution_count": 24
        }
      ]
    },
    {
      "cell_type": "code",
      "metadata": {
        "colab": {
          "base_uri": "https://localhost:8080/"
        },
        "id": "kiLVZLEmte4h",
        "outputId": "80dfc3f8-ff13-42d7-e56f-041c1d943d59"
      },
      "source": [
        "lyrics = []\r\n",
        "for _ in range(0, 25):\r\n",
        "  try:\r\n",
        "    output = generate(lyrics_model, max_n=n_words, max_tokens=200, arr=words_arr, embed=False, lyrics=True)\r\n",
        "    l = ' '.join(output)\r\n",
        "    lyrics.append(l)\r\n",
        "  except:\r\n",
        "    print(\"Skip\")\r\n",
        "len(lyrics), lyrics"
      ],
      "execution_count": null,
      "outputs": [
        {
          "output_type": "stream",
          "text": [
            "/usr/local/lib/python3.6/dist-packages/ipykernel_launcher.py:21: UserWarning: Implicit dimension choice for softmax has been deprecated. Change the call to include dim=X as an argument.\n"
          ],
          "name": "stderr"
        },
        {
          "output_type": "execute_result",
          "data": {
            "text/plain": [
              "(25,\n",
              " ['woooooh baby \\n some fun tonight \\n well were going to have some fun tonight \\n have some fun tonight \\n everythings alright \\n have some fun tonight \\n yeah well have some fun some fun tonight \\n i been told when a boy kiss a girl \\n take a trip around the world \\n hey hey \\n bop shuop mbop bop shuop \\n hey hey bop shuop mbop bop shuop \\n hey hey bop shuop mbop bop shuop \\n hey hey bop shuop \\n yeah she say you do \\n bop shuop \\n yeah she say you do \\n bop shuop \\n well i talk about boys \\n yeah yeah boys \\n dont ya know i mean boys \\n yeah yeah boys \\n well i talk about boys now \\n yeah i mean you do \\n yeah yeah boys \\n well i talk about boys now \\n yeah yeah boys \\n aaah boys \\n yeah yeah boys \\n well i talk about boys now yeah yeah boys \\n aaah boys \\n yeah yeah boys \\n well i talk about boys now \\n yeah yeah boys \\n aaah boys \\n yeah yeah boys \\n well i talk about boys now \\n',\n",
              "  'made me cry \\n im sorry that i doubted you i was so unfair \\n you i find you in my car \\n i dont told you my car \\n and maybe ill love you \\n i told that girl i can start right away \\n when she said listen babe i got something to say \\n i got no car and its breakin my heart \\n but ive found a driver and thats a start \\n baby you can drive my car \\n yes im gonna be a star \\n baby you can drive my car \\n and maybe ill love you \\n beep beepm beep beep yeah \\n baby you can drive my car \\n yes im gonna be a star \\n baby you can drive my car \\n and maybe ill love you \\n beep beepm beep beep yeah \\n baby you can drive my car \\n yes im gonna be a star \\n baby you can drive my car \\n and maybe ill love you \\n beep beepm beep beep yeah \\n baby you can drive my car \\n yes im gonna be a star \\n baby you can drive my car \\n and maybe ill love',\n",
              "  'falls through \\n i been told when a boy kiss a girl \\n take a trip around the world \\n hey hey \\n bop shuop mbop bop shuop \\n hey hey \\n bop shuop mbop bop shuop \\n make me see you \\n rain \\n i dont know boys you dont ever change \\n dont you think you hurt me so ill make bright her \\n im so tired i dont know why shes riding so high \\n she ought to think twice she ought to do right by me \\n before she gets to saying goodbye \\n she ought to think twice she ought to do right by me \\n i think im going to be sad i think its today yeah \\n the girl thats driving me mad is going away \\n shes got a ticket to ride \\n shes got a ticket to ride but she dont care \\n my baby dont care \\n my baby dont care \\n my baby dont care \\n my baby dont care \\n my baby dont care \\n my baby dont care \\n my baby dont care \\n my baby dont care \\n my baby dont care \\n my baby dont care',\n",
              "  'deep inside \\n love can be suicide \\n cant you see you cant hide what you feel \\n when its real \\n a friend says that your love wont mean a lot \\n and you know that your love is all youve gotta \\n for her and though she only me \\n then i get you can get your head in the sand little girl \\n catch you with another man \\n thats the end little girl \\n catch you with another man \\n thats the kind of hot kind of mind \\n im so tired i havent slept a public \\n my bonnie lies over the sea \\n my bonnie lies over the sea \\n well my bonnie lies over the sea \\n yeah bring back ah bring back \\n oh bring back my bonnie to me to me \\n oh bring back ah bring back \\n oh bring back my bonnie to me to me \\n get back get back \\n get back to where you once belonged \\n get back get up \\n nowhere man please dont ever \\n get back get back get back get back get back \\n get back to where you once belonged \\n',\n",
              "  'load a parking meter \\n when i caught a glimpse of rita \\n filling in a ticket in her little white book \\n in a cap she looked much older \\n and the bag across her shoulder \\n weve been a naughty boy you let your face grow long \\n i am the egg man they are the egg men \\n i am the walrus goo goo gjoob \\n sitting in an english garden waiting for the sun \\n if the sun dont come back get me back and get me get special the sun is the sun \\n here comes the sun and i say \\n its all right \\n here comes the sun \\n here comes the sun and i say \\n its all right \\n for me and the bbc \\n bb king \\n and the cia \\n and the bbc \\n bb king \\n and \\n doris day \\n matt busby \\n dig it \\n dig it dig it dig it \\n that was can you dig it by \\n georgie wood \\n and now wed like to do \\n hark the angels come \\n when i find myself in times of trouble mother mary comes to',\n",
              "  'quizzical \\n lucy in the sky with diamonds \\n lucy in the sky with diamonds \\n lucy in the sky with diamonds \\n lucy in the sky with diamonds \\n lucy in the sky with diamonds \\n lucy in the sky with diamonds \\n lucy in the sky with diamonds \\n lucy in the sky with diamonds \\n lucy in the sky with diamonds \\n lucy in the sky with diamonds \\n lucy in the sky with diamonds \\n lucy in the sky with diamonds \\n lucy in the sky with diamonds \\n lucy in the sky with diamonds \\n lucy in the sky with diamonds \\n lucy in the sky with diamonds \\n lucy in the sky with diamonds \\n lucy in the sky with diamonds \\n lucy in the sky with diamonds \\n lucy in the sky with diamonds \\n lucy in the sky with diamonds \\n lucy in the sky with diamonds \\n lucy in the sky with diamonds \\n lucy in the sky with diamonds \\n lucy in the sky with diamonds \\n lucy in the sky with diamonds \\n lucy in the sky with diamonds \\n lucy in the sky with diamonds \\n lucy in the',\n",
              "  'straight or love me tight \\n and its true that it really only goes to show \\n that i know that ii i i \\n should never never never be blue \\n now youre mine my happiness still makes me cry \\n and in time youll understand the reason why \\n if i cry its not because im sad \\n but youre the only love that ive ever had \\n i cant believe its happened to me \\n i cant conceive of any moremisery \\n ask me why ill say i love you \\n and im always thinking of you \\n i love you cause you tell me things i want to know \\n and its true that it really only goes to show \\n that i know that ii i i \\n should never never never be blue \\n now youre mine my happiness still makes me cry \\n and in the middle of negotiations \\n you break down \\n i never give you my number \\n i only give you my situation \\n and in the middle of investigation \\n i break down \\n out of college money spent \\n see no future pay no rent \\n all the',\n",
              "  'ringing out \\n dont you know if you dont leave me \\n you treat me badly i love you madly \\n youve really got a hold on me youve really got a hold on me baby \\n i dont want you but i need you \\n dont want to kiss you but i need to \\n all i need is to love you \\n you know i love you \\n sha la la la la la la \\n its me \\n please me mine \\n dont you know that you do \\n me do you say you want me to make you miss lizzy \\n you dont need me to love \\n just dont know that you dont mind \\n i never give you my number \\n i love only one and you you know that cant be sung \\n nothing you can say that you can learn how to be you only have to tell you one \\n can i get you to do \\n you better slow down \\n baby baby youre moving way too fast \\n you gotta gimme little lovin gimme little loving \\n brrr \\n if you want our love to last \\n ooh \\n a',\n",
              "  'parasol \\n cuesto obrigado tanta mucho que canite carousel \\n mean mister mustard sleeps in the park \\n shaves in the dark trying to save paper \\n sleeps in a hole in the road \\n saving up to buy some clothes \\n where everything flows \\n where we were dead fallin \\n were all fallin yes yes it seems so \\n all together now all together now \\n oh oh oh \\n you treat me badly i love you madly \\n youve really got a hold on me youve really got a hold on me baby \\n i dont want you but i need you \\n dont want to kiss you but i need to \\n oh oh oh \\n you do me wrong now my love is strong now \\n youve really got a hold on me youve really got a hold on me baby \\n i love you and all i want you to do \\n is just hold me squeeze hold me hold me \\n tighter \\n tighter \\n tighter \\n tighter \\n i want to leave you dont you want to stay here \\n i want to tell you now \\n dont you know you should \\n',\n",
              "  'bo diddley \\n \\n get the way where you are \\n and waiting for you \\n and the prairie wallflowers \\n los paranoias \\n los paranoias invites you to \\n to just enjoy us \\n los paranoias \\n los paranoias invites you to \\n to just enjoy us \\n come on you can save my baby \\n everybodys trying to be my baby \\n wont you get up with you \\n i look at you all together now \\n all together now all together now \\n all together now all together now \\n all together now all together now \\n all together now all together now \\n all together now all together now \\n all together now all together now \\n all together now all together now \\n all together now all together now \\n all together now all together now \\n all together now all together now \\n all together now all together now \\n all together now all together now \\n all together now all together now \\n all together now all together now \\n all together now all together now \\n all together now all together now \\n all together now all together now \\n all together now',\n",
              "  'diana ross and the beatles heavily anachronistic guests tend to take the role of primary artist the song performed in their style with scp joining as a rap guest \\n when contacted none of these artists had any recollection of recording for or information regarding scp \\n the crimes themselves share that they are unsolved or in some cases have escaped detection entirely the majority of instances of scp address crimes of private citizens such as serial killers spreemurders or career criminals though occasionally the songs will address larger groups such as hamas isis the ira and even in two separate instances the chaos insurgency and the church of the broken god \\n a prototypical example of scp is included here for reference \\n hide \\n jeff riegert out there and still stalkin the night \\n killed his brother and five strangers with the same damn knife \\n now its not my place to tell you what to say \\n i dont know why you say goodbye i say hello \\n hello hello \\n i dont know why you say goodbye i say hello \\n you say yes i say yes \\n i say no but i may mean no \\n',\n",
              "  'loud im too much \\n love cant be the night before \\n i was dreaming more whoa or ive got the whole day \\n dream baby make me stop my dreamin \\n you can make my dreams come true \\n sweet shadadada dream shadadada \\n baby shadadada shadadada \\n sweet shadadada dream shadadada \\n baby shadadada shadadada \\n sweet shadadada dream shadadada \\n baby shadadada shadadada \\n sweet shadadada dream shadadada \\n baby shadadada shadadada \\n sweet shadadada dream shadadada \\n baby shadadada shadadada \\n sweet shadadada dream shadadada \\n baby shadadada shadadada \\n sweet shadadada dream shadadada \\n baby baby shadadada \\n baby shadadada shadadada \\n how shadadada long shadadada must i dream \\n dream baby got me dreamin sweet dreams the whole day through dream baby \\n dream baby got me dreamin sweet dreams night time too \\n i love you and im dreaming of you but that wont do dream baby \\n dream baby make me stop my dreamin \\n you can make my dreams come true \\n aw sweet dream baby dream baby ahhuhhuh \\n yeah yeah sweeeeet dream baby dream baby ahhuhhuh \\n sweet dream baby dream baby ahhuhhuh \\n yeah uh oh im looking through',\n",
              "  'bold as well resign yourself to me oh yeah \\n imagine im in love with you \\n its easy cause i know \\n ive imagined im in love with you \\n many many many times before \\n its not like me to pretend \\n but ill get you ill get you in the end \\n yes i will ill get you in the end oh yeah oh yeah \\n well theres gonna be a time \\n when im gonna change your mind when im gonna make you mine \\n so you might as well resign yourself to me oh yeah \\n imagine im in love with you \\n its easy cause i know \\n ive imagined im in love with you \\n many many many times before \\n its not like me to pretend \\n but ill get you ill get you in the end \\n yes i will ill get you in the end oh yeah oh yeah \\n well theres gonna be a time \\n when im gonna change your mind when im gonna make you mine \\n so you might as well resign yourself to me oh yeah \\n imagine im in love with you \\n its easy',\n",
              "  'newman \\n something in the things she shows me \\n i dont want to leave her now \\n you know i believe and how \\n joan was quizzical \\n studied pataphysical science in the home \\n late nights all alone with a test tube oh oh oh oh \\n maxwell edison majoring in medicine \\n calls her on the phone \\n can i take you out to the pictures joaoaoaoan \\n but as shes getting ready to go \\n a knock comes on the door \\n bang bang maxwells silver hammer \\n came down upon her head \\n dodododo \\n clang clang maxwells silver hammer \\n made sure that she was dead \\n back in school again \\n maxwell plays the fool again \\n teacher gets annoyed \\n wishing to avoid an unpleasant sceeeene \\n she tells max to stay \\n when the class has gone away \\n so he waits behind \\n writing times i must not be so o o o \\n but when she turns her back on the boy \\n he creeps up from behind \\n bang bang maxwells silver hammer \\n came down upon her head \\n dodododo \\n clang clang maxwells silver hammer \\n made',\n",
              "  'dragged a comb across my head \\n found my way to get back home \\n sleep pretty darling do not cry \\n and i will sing a lullaby \\n boy youre gonna carry that weight \\n carry that weight a long time \\n boy youre gonna carry that weight \\n carry that weight a long time now \\n youre gonna hide all love \\n youre gonna lose that girl yes yes youre gonna lose that girl \\n youre gonna loooooooo yes yes youre gonna lose that girl \\n will make a girl with another man \\n youre gonna lose that girl yes yes youre gonna lose that girl \\n youre gonna lose that girl yes yes youre gonna lose that girl \\n youre gonna loooooooo yes yes youre gonna lose that girl \\n ill make a point \\n of taking her away from you \\n watch what you do \\n yeah \\n the way you treat her \\n what else can i do \\n youre gonna lose that girl \\n youre gonna lose that girl \\n youre gonna lose that girl yes yes youre gonna lose that girl \\n youre gonna lose that girl yes yes youre gonna lose that girl',\n",
              "  'sway \\n when the band starts to play \\n a real cool way out sound \\n and if you get to cant help it \\n and life flows on within you and when you see it again \\n life i turn and i go for a ride \\n til i get to where you get \\n with you dont you know you cant deliver \\n why you say goodbye i asked if you \\n and i feel glad all over \\n ooh my baby said shes travelling on the one after \\n said shes travelling on the one after \\n i begged her not to go and i begged her on my bended knees \\n youre only fooling round only fooling round with me \\n i said move over once move over twice \\n come on baby dont be cold as ice \\n said shes travelling on the one after \\n i begged her not to go and i begged her on the bended knee \\n yeah these chains of good day sunshine \\n dont bother me \\n ill never back \\n cause you wont me me \\n i cant do i cant stop my brain \\n you know its three',\n",
              "  'ghetto blastin \\n lend a your clothes \\n who is to love \\n by \\n the band \\n \\n waterloo sunset \\n by \\n the kinks \\n \\n tuttifrutti \\n by \\n the beatles \\n \\n stan \\n by \\n eminem featuring dido \\n \\n shes not there \\n by \\n the zombies \\n \\n train in vain \\n by \\n the clash \\n \\n tired of being alone \\n by \\n al green \\n \\n black dog \\n by \\n led zeppelin \\n \\n street fighting man \\n by \\n the rolling stones \\n \\n get up stand up \\n by \\n bob marley and the wailers \\n \\n heart of gold \\n by \\n neil young \\n \\n fight the power \\n by \\n public enemy \\n \\n dancing barefoot \\n by \\n patti smith group \\n \\n baby \\n by \\n bill withers \\n \\n seven nation army \\n by \\n the white stripes \\n \\n you are the sunshine of my life \\n by \\n stevie wonder \\n \\n help me \\n by \\n joni mitchell \\n \\n call me \\n by \\n blondie \\n \\n whats so funny bout peace love and understanding \\n by \\n',\n",
              "  'rockin in the filling \\n a crowd of mr moonlight \\n mr moonlight \\n if you tears me sunday \\n id like to be under the way \\n middle of the beginning i misunderstood \\n but now these days are gone im not so self assured \\n now i find ive changed my mind and opened up the doors \\n help me if you can im feeling down \\n and i do appreciate you being round \\n help me get my feet back on the ground \\n wont you please please help me \\n help me help me ooh \\n here i stand head in hand \\n turn around the rest on my own \\n its so easy for a girl like to be my bride \\n talkin bout you \\n i do mean you \\n but i havent got a whole lot of wine \\n oh baby said shes travelling on the one after \\n i said move over honey im travelling on that line \\n i said move over once move over twice \\n come on baby dont be cold as ice \\n said shes travelling on the one after \\n i begged her not to go and i',\n",
              "  'girlsleep sound \\n and go on the way \\n i feel fine now \\n im a loser \\n im a loser \\n im a loser \\n and im not what i appear to be \\n although i laugh and i act like a clown \\n beneath this mask i am wearing a frown \\n my tears are falling like rain from the sky \\n found my place to see you go \\n lets hear it again \\n yeah i can do \\n just call on me when youre blue \\n i love you and im dreaming in you but im gone so in love with her \\n she gives me everything \\n and tenderly \\n the voices i must go \\n everywhere people stare \\n each and every day \\n i can see them again \\n that i may mean a lot \\n but i can tell her man \\n my bonnie lies over the sea \\n my bonnie lies over the sea \\n well my bonnie lies over the sea \\n yeah bring back ah bring back \\n oh bring back my bonnie to me bonnie \\n aint she sweet \\n oh aint she sweet \\n well see her walking',\n",
              "  'boogie in your heart \\n i used to think of no one else but you were just the same \\n you didnt even think that you dont \\n if this boy gets you back again \\n this boy \\n im a loser \\n and im not what i appear to be \\n tryin to run me im a creek \\n she just for me what a shame mary jane had a pain at the party \\n what a shame what a shame what a shame \\n mary jane had a pain at the party \\n what a shame what a shame what a shame \\n mary jane had a pain at the party \\n what a shame what a shame what a shame \\n mary jane had a pain at the party \\n what a shame what a shame what a shame \\n mary jane had a pain at the party \\n what a shame what a shame \\n mary jane had a pain at the party \\n what a shame what a shame what a shame \\n mary jane had a pain at the party \\n what a shame what a shame what a shame \\n mary jane had a',\n",
              "  'belonged \\n get back get back \\n get back to where you once belonged \\n get back get it get get back get get back get back get back get back get back get get back get back get back to get back home \\n get to get my head on the world \\n \\n and im the sheik of araby \\n well im the sheik of araby \\n well im the sheik of araby \\n well im the sheik of araby \\n well im the sheik of araby \\n well im the sheik of araby \\n well im the sheik of araby \\n well im the sheik of araby \\n well im the sheik of araby \\n well im the sheik of araby \\n well im the sheik of araby \\n well im the sheik of araby \\n well im the sheik of araby \\n well im the sheik of araby \\n well the sheik of araby \\n well i saw her standing on the corner yip yip boom \\n a yellow ribbon in her hair yip yip boom \\n i couldnt stop youll look athere \\n look athere look athere \\n wow look athere well look athere \\n young',\n",
              "  'tuttifrutti \\n i dont know why you say goodbye i say hello \\n hello hello \\n i dont know why you say goodbye i say hello \\n hello hello \\n i dont know why you say goodbye i say hello \\n hello hello \\n i dont know why you say goodbye i say hello \\n hello hello \\n i dont know why you say goodbye i say hello \\n hello hello \\n i dont know why you say goodbye i say hello \\n hello hello \\n i dont know why you say goodbye i say hello \\n hello hello \\n i dont know why you say goodbye i say hello \\n hello hello \\n i dont know why you say goodbye i say hello \\n hello hello \\n i dont know why you say goodbye i say hello \\n hello hello \\n i dont know why you say goodbye i say hello \\n hello hello \\n i dont know why you say goodbye i say hello \\n hello hello \\n i dont know why you say goodbye i say hello \\n hello hello \\n i dont know why you say goodbye i say hello \\n hello hello \\n i dont know',\n",
              "  'misunderstanding all you see \\n its getting hard to be someone but it all works out \\n it doesnt matter much to cry \\n im the sheik of araby \\n well i saw her yesterday \\n though she was born a long long time ago \\n your mother should know your mother should \\n your mother should know know \\n your mother should know your mother should \\n your mother should know know \\n your mother should know your mother should \\n your mother should know know \\n your mother should know your mother should \\n your mother should know know \\n your mother should know your mother should \\n your mother should know know \\n your mother should know your mother should \\n your mother should know know \\n your mother should know your mother should \\n your mother should know know \\n your mother should know your mother should \\n your mother should know know \\n your mother should know your mother should \\n your mother should know know \\n your mother should know your mother should \\n your mother should know know \\n your mother should know your mother should \\n your mother should know know \\n your',\n",
              "  'took a ride \\n i didnt know what i would find there \\n another road where maybe i \\n could see another kind of mind there \\n ooh then i suddenly see you \\n ooh did i tell you i need you \\n every single day of my life \\n turn off your mind relax and float downstream \\n it is not dying it is not dying \\n lay down all thoughts surrender to the void \\n it is shining it is shining \\n that you may see the meaning of within \\n it is being it doesnt matter if it makes \\n by the shirelles \\n \\n shake rattle roll \\n by big joe turner \\n \\n changes \\n by david bowie \\n \\n rock roll music \\n by \\n chuck berry \\n \\n born to be wild \\n by steppenwolf \\n \\n maggie may \\n by rod stewart \\n \\n with or without you \\n by u \\n \\n who do you love \\n by bo diddley \\n \\n wont get fooled again \\n by the wife \\n \\n i dig a pony \\n well you can celebrate anything you want \\n yes you can celebrate anything you want',\n",
              "  'anywhere \\n so i hope therell come a day \\n when i tell you but its just a girl \\n when i see you everyday \\n i say mm mm hello little girl \\n when i see you everyday \\n i say mm mm hello little girl \\n hello little girl \\n hello little girl \\n hello little girl \\n hello little girl \\n hello little girl \\n hello little girl \\n shes mine your happiness should makes me a start to baby \\n would you believe in your love \\n that you dont want me till i dont you \\n for your love will you ever wait \\n i look at you and i feel fine \\n im in love with you and i want you \\n i want you to tell you \\n i just like to be your man \\n i want to be your lover baby \\n i want to be your man \\n love you like no other baby \\n like no other can \\n love you like no other baby \\n like no other can \\n i want to be your man i want to be your man \\n i want to be your man'])"
            ]
          },
          "metadata": {
            "tags": []
          },
          "execution_count": 19
        }
      ]
    },
    {
      "cell_type": "code",
      "metadata": {
        "id": "_A592Bwot88X"
      },
      "source": [
        "with open(\"data/generated.pkl\", \"wb\") as fd:\r\n",
        "  pickle.dump(lyrics, fd)"
      ],
      "execution_count": null,
      "outputs": []
    },
    {
      "cell_type": "code",
      "metadata": {
        "id": "xJLIROWRuJ9d"
      },
      "source": [
        "#your lyrics is generated in \"data/last_generated.pkl\"\r\n",
        "for _ in range(5):\r\n",
        "  try:\r\n",
        "    output = generate(lyrics_model, max_n=n_words, max_tokens=200, arr=words_arr, embed=False, lyrics=True)\r\n",
        "    lyrics = ' '.join(output)\r\n",
        "    break\r\n",
        "  except:\r\n",
        "    print(\"Skip\")\r\n",
        "with open(\"data/last_generated.pkl\", \"wb\") as fd:\r\n",
        "  pickle.dump(lyrics, fd)\r\n",
        "len(lyrics), lyrics"
      ],
      "execution_count": null,
      "outputs": []
    }
  ]
}