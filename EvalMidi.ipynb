{
  "nbformat": 4,
  "nbformat_minor": 0,
  "metadata": {
    "colab": {
      "name": "EvalMidi",
      "provenance": [],
      "collapsed_sections": []
    },
    "kernelspec": {
      "name": "python3",
      "display_name": "Python 3"
    }
  },
  "cells": [
    {
      "cell_type": "code",
      "metadata": {
        "colab": {
          "base_uri": "https://localhost:8080/",
          "height": 52
        },
        "id": "1STs4T_u6jFC",
        "outputId": "0aacb003-af47-4a2f-c463-708a4ffe838a"
      },
      "source": [
        "from google.colab import drive\r\n",
        "import os\r\n",
        "drive.mount('/gdrive')\r\n",
        "os.getcwd()\r\n",
        "# os.environ['CUDA_LAUNCH_BLOCKING'] = \"1\""
      ],
      "execution_count": null,
      "outputs": [
        {
          "output_type": "stream",
          "text": [
            "Mounted at /gdrive\n"
          ],
          "name": "stdout"
        },
        {
          "output_type": "execute_result",
          "data": {
            "application/vnd.google.colaboratory.intrinsic+json": {
              "type": "string"
            },
            "text/plain": [
              "'/content'"
            ]
          },
          "metadata": {
            "tags": []
          },
          "execution_count": 4
        }
      ]
    },
    {
      "cell_type": "code",
      "metadata": {
        "colab": {
          "base_uri": "https://localhost:8080/",
          "height": 35
        },
        "id": "58VcO5cT6uBX",
        "outputId": "6bb13223-d4d1-461e-ab3d-f5e8a950381c"
      },
      "source": [
        "root = \"/gdrive/My Drive/CS470/cs470_music_generator\"\r\n",
        "root_data = '/gdrive/My Drive/CS470/data'\r\n",
        "root_midi = '/gdrive/My Drive/CS470/data/midi'\r\n",
        "os.chdir(root)\r\n",
        "os.getcwd()"
      ],
      "execution_count": null,
      "outputs": [
        {
          "output_type": "execute_result",
          "data": {
            "application/vnd.google.colaboratory.intrinsic+json": {
              "type": "string"
            },
            "text/plain": [
              "'/gdrive/My Drive/CS470/cs470_music_generator'"
            ]
          },
          "metadata": {
            "tags": []
          },
          "execution_count": 5
        }
      ]
    },
    {
      "cell_type": "code",
      "metadata": {
        "colab": {
          "base_uri": "https://localhost:8080/"
        },
        "id": "hG8B_qVn6xFB",
        "outputId": "458c5274-7090-4e30-f184-ec6a6e8dcde1"
      },
      "source": [
        "!git clone https://github.com/bearpelican/musicautobot.git"
      ],
      "execution_count": null,
      "outputs": [
        {
          "output_type": "stream",
          "text": [
            "fatal: destination path 'musicautobot' already exists and is not an empty directory.\n"
          ],
          "name": "stdout"
        }
      ]
    },
    {
      "cell_type": "code",
      "metadata": {
        "colab": {
          "base_uri": "https://localhost:8080/",
          "height": 1000
        },
        "id": "_FjMK46y6xiR",
        "outputId": "b4c33e80-2d67-4bac-b26e-d84069384663"
      },
      "source": [
        "os.chdir('musicautobot')\r\n",
        "os.getcwd()\r\n",
        "!apt-get update\r\n",
        "!apt install musescore fluidsynth\r\n",
        "!pip install torch fastai music21 pebble fluidsynth midi2audio\r\n",
        "from musicautobot.numpy_encode import *\r\n",
        "from musicautobot.config import *\r\n",
        "from musicautobot.music_transformer import *\r\n",
        "from musicautobot.multitask_transformer import *\r\n",
        "from musicautobot.utils import midifile\r\n",
        "os.chdir('..')\r\n",
        "os.getcwd()"
      ],
      "execution_count": null,
      "outputs": [
        {
          "output_type": "stream",
          "text": [
            "\r0% [Working]\r            \rGet:1 http://security.ubuntu.com/ubuntu bionic-security InRelease [88.7 kB]\n",
            "Ign:2 https://developer.download.nvidia.com/compute/cuda/repos/ubuntu1804/x86_64  InRelease\n",
            "Get:3 https://cloud.r-project.org/bin/linux/ubuntu bionic-cran40/ InRelease [3,626 B]\n",
            "Get:4 http://ppa.launchpad.net/c2d4u.team/c2d4u4.0+/ubuntu bionic InRelease [15.9 kB]\n",
            "Hit:5 http://archive.ubuntu.com/ubuntu bionic InRelease\n",
            "Ign:6 https://developer.download.nvidia.com/compute/machine-learning/repos/ubuntu1804/x86_64  InRelease\n",
            "Hit:7 https://developer.download.nvidia.com/compute/cuda/repos/ubuntu1804/x86_64  Release\n",
            "Hit:8 https://developer.download.nvidia.com/compute/machine-learning/repos/ubuntu1804/x86_64  Release\n",
            "Get:9 http://archive.ubuntu.com/ubuntu bionic-updates InRelease [88.7 kB]\n",
            "Get:10 http://security.ubuntu.com/ubuntu bionic-security/universe amd64 Packages [1,370 kB]\n",
            "Get:11 http://ppa.launchpad.net/graphics-drivers/ppa/ubuntu bionic InRelease [21.3 kB]\n",
            "Get:12 http://security.ubuntu.com/ubuntu bionic-security/multiverse amd64 Packages [15.8 kB]\n",
            "Get:13 http://security.ubuntu.com/ubuntu bionic-security/main amd64 Packages [1,815 kB]\n",
            "Get:14 http://archive.ubuntu.com/ubuntu bionic-backports InRelease [74.6 kB]\n",
            "Get:17 http://ppa.launchpad.net/c2d4u.team/c2d4u4.0+/ubuntu bionic/main Sources [1,696 kB]\n",
            "Get:18 http://archive.ubuntu.com/ubuntu bionic-updates/main amd64 Packages [2,243 kB]\n",
            "Get:19 http://archive.ubuntu.com/ubuntu bionic-updates/universe amd64 Packages [2,134 kB]\n",
            "Get:20 http://archive.ubuntu.com/ubuntu bionic-updates/multiverse amd64 Packages [54.3 kB]\n",
            "Get:21 http://ppa.launchpad.net/c2d4u.team/c2d4u4.0+/ubuntu bionic/main amd64 Packages [868 kB]\n",
            "Get:22 http://ppa.launchpad.net/graphics-drivers/ppa/ubuntu bionic/main amd64 Packages [46.5 kB]\n",
            "Fetched 10.5 MB in 3s (3,032 kB/s)\n",
            "Reading package lists... Done\n",
            "Reading package lists... Done\n",
            "Building dependency tree       \n",
            "Reading state information... Done\n",
            "The following additional packages will be installed:\n",
            "  avahi-daemon bind9-host desktop-file-utils fluid-soundfont-gm\n",
            "  fluidr3mono-gm-soundfont geoclue-2.0 geoip-database\n",
            "  gstreamer1.0-plugins-base iio-sensor-proxy libavahi-core7 libavahi-glib1\n",
            "  libbind9-160 libbrotli1 libcap2-bin libcdparanoia0 libdaemon0 libdns1100\n",
            "  libfluidsynth1 libgeoclue-2-0 libgeoip1 libgl1-mesa-glx\n",
            "  libgstreamer-plugins-base1.0-0 libgstreamer1.0-0 libhyphen0 libisc169\n",
            "  libisccc160 libisccfg160 liblwres160 libmbim-glib4 libmbim-proxy libmm-glib0\n",
            "  libnl-genl-3-200 libnss-mdns liborc-0.4-0 libpam-cap libportaudio2\n",
            "  libpulsedsp libqmi-glib5 libqmi-proxy libqt5help5 libqt5positioning5\n",
            "  libqt5qml5 libqt5quick5 libqt5sensors5 libqt5sql5-sqlite libqt5svg5\n",
            "  libqt5webchannel5 libqt5webkit5 libqt5x11extras5 libqt5xmlpatterns5\n",
            "  libvisual-0.4-0 libwoff1 modemmanager musescore-common pulseaudio-utils\n",
            "  qml-module-qtgraphicaleffects qml-module-qtquick-controls\n",
            "  qml-module-qtquick-dialogs qml-module-qtquick-layouts\n",
            "  qml-module-qtquick-privatewidgets qml-module-qtquick-window2\n",
            "  qml-module-qtquick2 qsynth usb-modeswitch usb-modeswitch-data wpasupplicant\n",
            "Suggested packages:\n",
            "  avahi-autoipd fluid-soundfont-gs timidity gvfs geoip-bin\n",
            "  libvisual-0.4-plugins gstreamer1.0-tools avahi-autoipd | zeroconf\n",
            "  qt5-qmltooling-plugins timgm6mb-soundfont pulseaudio jackd comgt wvdial\n",
            "  wpagui libengine-pkcs11-openssl\n",
            "The following NEW packages will be installed:\n",
            "  avahi-daemon bind9-host desktop-file-utils fluid-soundfont-gm\n",
            "  fluidr3mono-gm-soundfont fluidsynth geoclue-2.0 geoip-database\n",
            "  gstreamer1.0-plugins-base iio-sensor-proxy libavahi-core7 libavahi-glib1\n",
            "  libbind9-160 libbrotli1 libcap2-bin libcdparanoia0 libdaemon0 libdns1100\n",
            "  libfluidsynth1 libgeoclue-2-0 libgeoip1 libgl1-mesa-glx\n",
            "  libgstreamer-plugins-base1.0-0 libgstreamer1.0-0 libhyphen0 libisc169\n",
            "  libisccc160 libisccfg160 liblwres160 libmbim-glib4 libmbim-proxy libmm-glib0\n",
            "  libnl-genl-3-200 libnss-mdns liborc-0.4-0 libpam-cap libportaudio2\n",
            "  libpulsedsp libqmi-glib5 libqmi-proxy libqt5help5 libqt5positioning5\n",
            "  libqt5qml5 libqt5quick5 libqt5sensors5 libqt5sql5-sqlite libqt5svg5\n",
            "  libqt5webchannel5 libqt5webkit5 libqt5x11extras5 libqt5xmlpatterns5\n",
            "  libvisual-0.4-0 libwoff1 modemmanager musescore musescore-common\n",
            "  pulseaudio-utils qml-module-qtgraphicaleffects qml-module-qtquick-controls\n",
            "  qml-module-qtquick-dialogs qml-module-qtquick-layouts\n",
            "  qml-module-qtquick-privatewidgets qml-module-qtquick-window2\n",
            "  qml-module-qtquick2 qsynth usb-modeswitch usb-modeswitch-data wpasupplicant\n",
            "0 upgraded, 68 newly installed, 0 to remove and 20 not upgraded.\n",
            "Need to get 176 MB of archives.\n",
            "After this operation, 330 MB of additional disk space will be used.\n",
            "Get:1 http://archive.ubuntu.com/ubuntu bionic/main amd64 libdaemon0 amd64 0.14-6 [16.6 kB]\n",
            "Get:2 http://archive.ubuntu.com/ubuntu bionic/main amd64 libqt5svg5 amd64 5.9.5-0ubuntu1 [128 kB]\n",
            "Get:3 http://archive.ubuntu.com/ubuntu bionic/main amd64 libcap2-bin amd64 1:2.25-1.2 [20.6 kB]\n",
            "Get:4 http://archive.ubuntu.com/ubuntu bionic-updates/main amd64 libgstreamer1.0-0 amd64 1.14.5-0ubuntu1~18.04.1 [865 kB]\n",
            "Get:5 http://archive.ubuntu.com/ubuntu bionic/main amd64 liborc-0.4-0 amd64 1:0.4.28-1 [137 kB]\n",
            "Get:6 http://archive.ubuntu.com/ubuntu bionic-updates/main amd64 libgstreamer-plugins-base1.0-0 amd64 1.14.5-0ubuntu1~18.04.1 [688 kB]\n",
            "Get:7 http://archive.ubuntu.com/ubuntu bionic/main amd64 libhyphen0 amd64 2.8.8-5 [26.5 kB]\n",
            "Get:8 http://archive.ubuntu.com/ubuntu bionic/universe amd64 libqt5positioning5 amd64 5.9.5+dfsg-0ubuntu2 [131 kB]\n",
            "Get:9 http://archive.ubuntu.com/ubuntu bionic-updates/universe amd64 libqt5qml5 amd64 5.9.5-0ubuntu1.1 [1,242 kB]\n",
            "Get:10 http://archive.ubuntu.com/ubuntu bionic-updates/universe amd64 libqt5quick5 amd64 5.9.5-0ubuntu1.1 [1,201 kB]\n",
            "Get:11 http://archive.ubuntu.com/ubuntu bionic/universe amd64 libqt5sensors5 amd64 5.9.5-0ubuntu1 [113 kB]\n",
            "Get:12 http://archive.ubuntu.com/ubuntu bionic/universe amd64 libqt5webchannel5 amd64 5.9.5-0ubuntu1 [47.7 kB]\n",
            "Get:13 http://archive.ubuntu.com/ubuntu bionic-updates/main amd64 libbrotli1 amd64 1.0.3-1ubuntu1.3 [262 kB]\n",
            "Get:14 http://archive.ubuntu.com/ubuntu bionic-updates/main amd64 libwoff1 amd64 1.0.2-1build0.1 [43.0 kB]\n",
            "Get:15 http://archive.ubuntu.com/ubuntu bionic/universe amd64 libqt5webkit5 amd64 5.212.0~alpha2-7ubuntu1 [11.8 MB]\n",
            "Get:16 http://archive.ubuntu.com/ubuntu bionic-updates/universe amd64 qml-module-qtquick-window2 amd64 5.9.5-0ubuntu1.1 [18.1 kB]\n",
            "Get:17 http://archive.ubuntu.com/ubuntu bionic-updates/universe amd64 qml-module-qtquick2 amd64 5.9.5-0ubuntu1.1 [31.4 kB]\n",
            "Get:18 http://archive.ubuntu.com/ubuntu bionic/universe amd64 qml-module-qtgraphicaleffects amd64 5.9.5-0ubuntu1 [96.1 kB]\n",
            "Get:19 http://archive.ubuntu.com/ubuntu bionic-updates/universe amd64 qml-module-qtquick-layouts amd64 5.9.5-0ubuntu1.1 [44.9 kB]\n",
            "Get:20 http://archive.ubuntu.com/ubuntu bionic/universe amd64 qml-module-qtquick-controls amd64 5.9.5-0ubuntu1 [712 kB]\n",
            "Get:21 http://archive.ubuntu.com/ubuntu bionic/main amd64 libpam-cap amd64 1:2.25-1.2 [7,268 B]\n",
            "Get:22 http://archive.ubuntu.com/ubuntu bionic-updates/main amd64 libisc169 amd64 1:9.11.3+dfsg-1ubuntu1.13 [238 kB]\n",
            "Get:23 http://archive.ubuntu.com/ubuntu bionic/main amd64 libgeoip1 amd64 1.6.12-1 [71.8 kB]\n",
            "Get:24 http://archive.ubuntu.com/ubuntu bionic-updates/main amd64 libdns1100 amd64 1:9.11.3+dfsg-1ubuntu1.13 [966 kB]\n",
            "Get:25 http://archive.ubuntu.com/ubuntu bionic-updates/main amd64 libisccc160 amd64 1:9.11.3+dfsg-1ubuntu1.13 [17.9 kB]\n",
            "Get:26 http://archive.ubuntu.com/ubuntu bionic-updates/main amd64 libisccfg160 amd64 1:9.11.3+dfsg-1ubuntu1.13 [48.4 kB]\n",
            "Get:27 http://archive.ubuntu.com/ubuntu bionic-updates/main amd64 libbind9-160 amd64 1:9.11.3+dfsg-1ubuntu1.13 [27.6 kB]\n",
            "Get:28 http://archive.ubuntu.com/ubuntu bionic-updates/main amd64 liblwres160 amd64 1:9.11.3+dfsg-1ubuntu1.13 [34.7 kB]\n",
            "Get:29 http://archive.ubuntu.com/ubuntu bionic-updates/main amd64 bind9-host amd64 1:9.11.3+dfsg-1ubuntu1.13 [53.5 kB]\n",
            "Get:30 http://archive.ubuntu.com/ubuntu bionic/main amd64 geoip-database all 20180315-1 [2,090 kB]\n",
            "Get:31 http://archive.ubuntu.com/ubuntu bionic-updates/main amd64 libavahi-core7 amd64 0.7-3.1ubuntu1.2 [81.1 kB]\n",
            "Get:32 http://archive.ubuntu.com/ubuntu bionic-updates/main amd64 avahi-daemon amd64 0.7-3.1ubuntu1.2 [62.3 kB]\n",
            "Get:33 http://archive.ubuntu.com/ubuntu bionic-updates/main amd64 desktop-file-utils amd64 0.23-1ubuntu3.18.04.2 [51.4 kB]\n",
            "Get:34 http://archive.ubuntu.com/ubuntu bionic/universe amd64 fluid-soundfont-gm all 3.1-5.1 [119 MB]\n",
            "Get:35 http://archive.ubuntu.com/ubuntu bionic/universe amd64 fluidr3mono-gm-soundfont all 2.315-4 [18.7 MB]\n",
            "Get:36 http://archive.ubuntu.com/ubuntu bionic/universe amd64 libfluidsynth1 amd64 1.1.9-1 [137 kB]\n",
            "Get:37 http://archive.ubuntu.com/ubuntu bionic/universe amd64 fluidsynth amd64 1.1.9-1 [20.7 kB]\n",
            "Get:38 http://archive.ubuntu.com/ubuntu bionic-updates/main amd64 libavahi-glib1 amd64 0.7-3.1ubuntu1.2 [7,720 B]\n",
            "Get:39 http://archive.ubuntu.com/ubuntu bionic/main amd64 libgeoclue-2-0 amd64 2.4.7-1ubuntu1 [25.6 kB]\n",
            "Get:40 http://archive.ubuntu.com/ubuntu bionic-updates/main amd64 libmm-glib0 amd64 1.10.0-1~ubuntu18.04.2 [179 kB]\n",
            "Get:41 http://archive.ubuntu.com/ubuntu bionic/main amd64 geoclue-2.0 amd64 2.4.7-1ubuntu1 [80.6 kB]\n",
            "Get:42 http://archive.ubuntu.com/ubuntu bionic/main amd64 libcdparanoia0 amd64 3.10.2+debian-13 [46.7 kB]\n",
            "Get:43 http://archive.ubuntu.com/ubuntu bionic/main amd64 libvisual-0.4-0 amd64 0.4.0-11 [99.2 kB]\n",
            "Get:44 http://archive.ubuntu.com/ubuntu bionic-updates/main amd64 gstreamer1.0-plugins-base amd64 1.14.5-0ubuntu1~18.04.1 [587 kB]\n",
            "Get:45 http://archive.ubuntu.com/ubuntu bionic/main amd64 iio-sensor-proxy amd64 2.4-2 [45.0 kB]\n",
            "Get:46 http://archive.ubuntu.com/ubuntu bionic-updates/main amd64 libgl1-mesa-glx amd64 20.0.8-0ubuntu1~18.04.1 [5,532 B]\n",
            "Get:47 http://archive.ubuntu.com/ubuntu bionic-updates/main amd64 libmbim-glib4 amd64 1.18.0-1~ubuntu18.04.1 [91.4 kB]\n",
            "Get:48 http://archive.ubuntu.com/ubuntu bionic-updates/main amd64 libmbim-proxy amd64 1.18.0-1~ubuntu18.04.1 [5,572 B]\n",
            "Get:49 http://archive.ubuntu.com/ubuntu bionic/main amd64 libnl-genl-3-200 amd64 3.2.29-0ubuntu3 [11.2 kB]\n",
            "Get:50 http://archive.ubuntu.com/ubuntu bionic/main amd64 libnss-mdns amd64 0.10-8ubuntu1 [21.2 kB]\n",
            "Get:51 http://archive.ubuntu.com/ubuntu bionic/universe amd64 libportaudio2 amd64 19.6.0-1 [64.6 kB]\n",
            "Get:52 http://archive.ubuntu.com/ubuntu bionic-updates/main amd64 libpulsedsp amd64 1:11.1-1ubuntu7.11 [31.9 kB]\n",
            "Get:53 http://archive.ubuntu.com/ubuntu bionic-updates/main amd64 libqmi-glib5 amd64 1.22.0-1.2~ubuntu18.04.1 [494 kB]\n",
            "Get:54 http://archive.ubuntu.com/ubuntu bionic-updates/main amd64 libqmi-proxy amd64 1.22.0-1.2~ubuntu18.04.1 [5,632 B]\n",
            "Get:55 http://archive.ubuntu.com/ubuntu bionic/universe amd64 libqt5help5 amd64 5.9.5-0ubuntu1 [133 kB]\n",
            "Get:56 http://archive.ubuntu.com/ubuntu bionic-updates/main amd64 libqt5sql5-sqlite amd64 5.9.5+dfsg-0ubuntu2.5 [40.2 kB]\n",
            "Get:57 http://archive.ubuntu.com/ubuntu bionic/universe amd64 libqt5x11extras5 amd64 5.9.5-0ubuntu1 [8,596 B]\n",
            "Get:58 http://archive.ubuntu.com/ubuntu bionic/universe amd64 libqt5xmlpatterns5 amd64 5.9.5-0ubuntu1 [916 kB]\n",
            "Get:59 http://archive.ubuntu.com/ubuntu bionic-updates/main amd64 modemmanager amd64 1.10.0-1~ubuntu18.04.2 [728 kB]\n",
            "Get:60 http://archive.ubuntu.com/ubuntu bionic/universe amd64 musescore-common all 2.1.0+dfsg3-3build1 [3,023 kB]\n",
            "Get:61 http://archive.ubuntu.com/ubuntu bionic/universe amd64 qml-module-qtquick-privatewidgets amd64 5.9.5-0ubuntu1 [41.7 kB]\n",
            "Get:62 http://archive.ubuntu.com/ubuntu bionic/universe amd64 qml-module-qtquick-dialogs amd64 5.9.5-0ubuntu1 [122 kB]\n",
            "Get:63 http://archive.ubuntu.com/ubuntu bionic/universe amd64 musescore amd64 2.1.0+dfsg3-3build1 [8,052 kB]\n",
            "Get:64 http://archive.ubuntu.com/ubuntu bionic-updates/main amd64 pulseaudio-utils amd64 1:11.1-1ubuntu7.11 [64.3 kB]\n",
            "Get:65 http://archive.ubuntu.com/ubuntu bionic/universe amd64 qsynth amd64 0.5.0-2 [191 kB]\n",
            "Get:66 http://archive.ubuntu.com/ubuntu bionic-updates/main amd64 wpasupplicant amd64 2:2.6-15ubuntu2.5 [954 kB]\n",
            "Get:67 http://archive.ubuntu.com/ubuntu bionic/main amd64 usb-modeswitch-data all 20170806-2 [30.7 kB]\n",
            "Get:68 http://archive.ubuntu.com/ubuntu bionic/main amd64 usb-modeswitch amd64 2.5.2+repack0-2ubuntu1 [53.6 kB]\n",
            "Fetched 176 MB in 6s (27.5 MB/s)\n",
            "Extracting templates from packages: 100%\n",
            "Selecting previously unselected package libdaemon0:amd64.\n",
            "(Reading database ... 144865 files and directories currently installed.)\n",
            "Preparing to unpack .../00-libdaemon0_0.14-6_amd64.deb ...\n",
            "Unpacking libdaemon0:amd64 (0.14-6) ...\n",
            "Selecting previously unselected package libqt5svg5:amd64.\n",
            "Preparing to unpack .../01-libqt5svg5_5.9.5-0ubuntu1_amd64.deb ...\n",
            "Unpacking libqt5svg5:amd64 (5.9.5-0ubuntu1) ...\n",
            "Selecting previously unselected package libcap2-bin.\n",
            "Preparing to unpack .../02-libcap2-bin_1%3a2.25-1.2_amd64.deb ...\n",
            "Unpacking libcap2-bin (1:2.25-1.2) ...\n",
            "Selecting previously unselected package libgstreamer1.0-0:amd64.\n",
            "Preparing to unpack .../03-libgstreamer1.0-0_1.14.5-0ubuntu1~18.04.1_amd64.deb ...\n",
            "Unpacking libgstreamer1.0-0:amd64 (1.14.5-0ubuntu1~18.04.1) ...\n",
            "Selecting previously unselected package liborc-0.4-0:amd64.\n",
            "Preparing to unpack .../04-liborc-0.4-0_1%3a0.4.28-1_amd64.deb ...\n",
            "Unpacking liborc-0.4-0:amd64 (1:0.4.28-1) ...\n",
            "Selecting previously unselected package libgstreamer-plugins-base1.0-0:amd64.\n",
            "Preparing to unpack .../05-libgstreamer-plugins-base1.0-0_1.14.5-0ubuntu1~18.04.1_amd64.deb ...\n",
            "Unpacking libgstreamer-plugins-base1.0-0:amd64 (1.14.5-0ubuntu1~18.04.1) ...\n",
            "Selecting previously unselected package libhyphen0:amd64.\n",
            "Preparing to unpack .../06-libhyphen0_2.8.8-5_amd64.deb ...\n",
            "Unpacking libhyphen0:amd64 (2.8.8-5) ...\n",
            "Selecting previously unselected package libqt5positioning5:amd64.\n",
            "Preparing to unpack .../07-libqt5positioning5_5.9.5+dfsg-0ubuntu2_amd64.deb ...\n",
            "Unpacking libqt5positioning5:amd64 (5.9.5+dfsg-0ubuntu2) ...\n",
            "Selecting previously unselected package libqt5qml5:amd64.\n",
            "Preparing to unpack .../08-libqt5qml5_5.9.5-0ubuntu1.1_amd64.deb ...\n",
            "Unpacking libqt5qml5:amd64 (5.9.5-0ubuntu1.1) ...\n",
            "Selecting previously unselected package libqt5quick5:amd64.\n",
            "Preparing to unpack .../09-libqt5quick5_5.9.5-0ubuntu1.1_amd64.deb ...\n",
            "Unpacking libqt5quick5:amd64 (5.9.5-0ubuntu1.1) ...\n",
            "Selecting previously unselected package libqt5sensors5:amd64.\n",
            "Preparing to unpack .../10-libqt5sensors5_5.9.5-0ubuntu1_amd64.deb ...\n",
            "Unpacking libqt5sensors5:amd64 (5.9.5-0ubuntu1) ...\n",
            "Selecting previously unselected package libqt5webchannel5:amd64.\n",
            "Preparing to unpack .../11-libqt5webchannel5_5.9.5-0ubuntu1_amd64.deb ...\n",
            "Unpacking libqt5webchannel5:amd64 (5.9.5-0ubuntu1) ...\n",
            "Selecting previously unselected package libbrotli1:amd64.\n",
            "Preparing to unpack .../12-libbrotli1_1.0.3-1ubuntu1.3_amd64.deb ...\n",
            "Unpacking libbrotli1:amd64 (1.0.3-1ubuntu1.3) ...\n",
            "Selecting previously unselected package libwoff1:amd64.\n",
            "Preparing to unpack .../13-libwoff1_1.0.2-1build0.1_amd64.deb ...\n",
            "Unpacking libwoff1:amd64 (1.0.2-1build0.1) ...\n",
            "Selecting previously unselected package libqt5webkit5:amd64.\n",
            "Preparing to unpack .../14-libqt5webkit5_5.212.0~alpha2-7ubuntu1_amd64.deb ...\n",
            "Unpacking libqt5webkit5:amd64 (5.212.0~alpha2-7ubuntu1) ...\n",
            "Selecting previously unselected package qml-module-qtquick-window2:amd64.\n",
            "Preparing to unpack .../15-qml-module-qtquick-window2_5.9.5-0ubuntu1.1_amd64.deb ...\n",
            "Unpacking qml-module-qtquick-window2:amd64 (5.9.5-0ubuntu1.1) ...\n",
            "Selecting previously unselected package qml-module-qtquick2:amd64.\n",
            "Preparing to unpack .../16-qml-module-qtquick2_5.9.5-0ubuntu1.1_amd64.deb ...\n",
            "Unpacking qml-module-qtquick2:amd64 (5.9.5-0ubuntu1.1) ...\n",
            "Selecting previously unselected package qml-module-qtgraphicaleffects:amd64.\n",
            "Preparing to unpack .../17-qml-module-qtgraphicaleffects_5.9.5-0ubuntu1_amd64.deb ...\n",
            "Unpacking qml-module-qtgraphicaleffects:amd64 (5.9.5-0ubuntu1) ...\n",
            "Selecting previously unselected package qml-module-qtquick-layouts:amd64.\n",
            "Preparing to unpack .../18-qml-module-qtquick-layouts_5.9.5-0ubuntu1.1_amd64.deb ...\n",
            "Unpacking qml-module-qtquick-layouts:amd64 (5.9.5-0ubuntu1.1) ...\n",
            "Selecting previously unselected package qml-module-qtquick-controls:amd64.\n",
            "Preparing to unpack .../19-qml-module-qtquick-controls_5.9.5-0ubuntu1_amd64.deb ...\n",
            "Unpacking qml-module-qtquick-controls:amd64 (5.9.5-0ubuntu1) ...\n",
            "Selecting previously unselected package libpam-cap:amd64.\n",
            "Preparing to unpack .../20-libpam-cap_1%3a2.25-1.2_amd64.deb ...\n",
            "Unpacking libpam-cap:amd64 (1:2.25-1.2) ...\n",
            "Selecting previously unselected package libisc169:amd64.\n",
            "Preparing to unpack .../21-libisc169_1%3a9.11.3+dfsg-1ubuntu1.13_amd64.deb ...\n",
            "Unpacking libisc169:amd64 (1:9.11.3+dfsg-1ubuntu1.13) ...\n",
            "Selecting previously unselected package libgeoip1:amd64.\n",
            "Preparing to unpack .../22-libgeoip1_1.6.12-1_amd64.deb ...\n",
            "Unpacking libgeoip1:amd64 (1.6.12-1) ...\n",
            "Selecting previously unselected package libdns1100:amd64.\n",
            "Preparing to unpack .../23-libdns1100_1%3a9.11.3+dfsg-1ubuntu1.13_amd64.deb ...\n",
            "Unpacking libdns1100:amd64 (1:9.11.3+dfsg-1ubuntu1.13) ...\n",
            "Selecting previously unselected package libisccc160:amd64.\n",
            "Preparing to unpack .../24-libisccc160_1%3a9.11.3+dfsg-1ubuntu1.13_amd64.deb ...\n",
            "Unpacking libisccc160:amd64 (1:9.11.3+dfsg-1ubuntu1.13) ...\n",
            "Selecting previously unselected package libisccfg160:amd64.\n",
            "Preparing to unpack .../25-libisccfg160_1%3a9.11.3+dfsg-1ubuntu1.13_amd64.deb ...\n",
            "Unpacking libisccfg160:amd64 (1:9.11.3+dfsg-1ubuntu1.13) ...\n",
            "Selecting previously unselected package libbind9-160:amd64.\n",
            "Preparing to unpack .../26-libbind9-160_1%3a9.11.3+dfsg-1ubuntu1.13_amd64.deb ...\n",
            "Unpacking libbind9-160:amd64 (1:9.11.3+dfsg-1ubuntu1.13) ...\n",
            "Selecting previously unselected package liblwres160:amd64.\n",
            "Preparing to unpack .../27-liblwres160_1%3a9.11.3+dfsg-1ubuntu1.13_amd64.deb ...\n",
            "Unpacking liblwres160:amd64 (1:9.11.3+dfsg-1ubuntu1.13) ...\n",
            "Selecting previously unselected package bind9-host.\n",
            "Preparing to unpack .../28-bind9-host_1%3a9.11.3+dfsg-1ubuntu1.13_amd64.deb ...\n",
            "Unpacking bind9-host (1:9.11.3+dfsg-1ubuntu1.13) ...\n",
            "Selecting previously unselected package geoip-database.\n",
            "Preparing to unpack .../29-geoip-database_20180315-1_all.deb ...\n",
            "Unpacking geoip-database (20180315-1) ...\n",
            "Selecting previously unselected package libavahi-core7:amd64.\n",
            "Preparing to unpack .../30-libavahi-core7_0.7-3.1ubuntu1.2_amd64.deb ...\n",
            "Unpacking libavahi-core7:amd64 (0.7-3.1ubuntu1.2) ...\n",
            "Selecting previously unselected package avahi-daemon.\n",
            "Preparing to unpack .../31-avahi-daemon_0.7-3.1ubuntu1.2_amd64.deb ...\n",
            "Unpacking avahi-daemon (0.7-3.1ubuntu1.2) ...\n",
            "Selecting previously unselected package desktop-file-utils.\n",
            "Preparing to unpack .../32-desktop-file-utils_0.23-1ubuntu3.18.04.2_amd64.deb ...\n",
            "Unpacking desktop-file-utils (0.23-1ubuntu3.18.04.2) ...\n",
            "Selecting previously unselected package fluid-soundfont-gm.\n",
            "Preparing to unpack .../33-fluid-soundfont-gm_3.1-5.1_all.deb ...\n",
            "Unpacking fluid-soundfont-gm (3.1-5.1) ...\n",
            "Selecting previously unselected package fluidr3mono-gm-soundfont.\n",
            "Preparing to unpack .../34-fluidr3mono-gm-soundfont_2.315-4_all.deb ...\n",
            "Unpacking fluidr3mono-gm-soundfont (2.315-4) ...\n",
            "Selecting previously unselected package libfluidsynth1:amd64.\n",
            "Preparing to unpack .../35-libfluidsynth1_1.1.9-1_amd64.deb ...\n",
            "Unpacking libfluidsynth1:amd64 (1.1.9-1) ...\n",
            "Selecting previously unselected package fluidsynth.\n",
            "Preparing to unpack .../36-fluidsynth_1.1.9-1_amd64.deb ...\n",
            "Unpacking fluidsynth (1.1.9-1) ...\n",
            "Selecting previously unselected package libavahi-glib1:amd64.\n",
            "Preparing to unpack .../37-libavahi-glib1_0.7-3.1ubuntu1.2_amd64.deb ...\n",
            "Unpacking libavahi-glib1:amd64 (0.7-3.1ubuntu1.2) ...\n",
            "Selecting previously unselected package libgeoclue-2-0:amd64.\n",
            "Preparing to unpack .../38-libgeoclue-2-0_2.4.7-1ubuntu1_amd64.deb ...\n",
            "Unpacking libgeoclue-2-0:amd64 (2.4.7-1ubuntu1) ...\n",
            "Selecting previously unselected package libmm-glib0:amd64.\n",
            "Preparing to unpack .../39-libmm-glib0_1.10.0-1~ubuntu18.04.2_amd64.deb ...\n",
            "Unpacking libmm-glib0:amd64 (1.10.0-1~ubuntu18.04.2) ...\n",
            "Selecting previously unselected package geoclue-2.0.\n",
            "Preparing to unpack .../40-geoclue-2.0_2.4.7-1ubuntu1_amd64.deb ...\n",
            "Unpacking geoclue-2.0 (2.4.7-1ubuntu1) ...\n",
            "Selecting previously unselected package libcdparanoia0:amd64.\n",
            "Preparing to unpack .../41-libcdparanoia0_3.10.2+debian-13_amd64.deb ...\n",
            "Unpacking libcdparanoia0:amd64 (3.10.2+debian-13) ...\n",
            "Selecting previously unselected package libvisual-0.4-0:amd64.\n",
            "Preparing to unpack .../42-libvisual-0.4-0_0.4.0-11_amd64.deb ...\n",
            "Unpacking libvisual-0.4-0:amd64 (0.4.0-11) ...\n",
            "Selecting previously unselected package gstreamer1.0-plugins-base:amd64.\n",
            "Preparing to unpack .../43-gstreamer1.0-plugins-base_1.14.5-0ubuntu1~18.04.1_amd64.deb ...\n",
            "Unpacking gstreamer1.0-plugins-base:amd64 (1.14.5-0ubuntu1~18.04.1) ...\n",
            "Selecting previously unselected package iio-sensor-proxy.\n",
            "Preparing to unpack .../44-iio-sensor-proxy_2.4-2_amd64.deb ...\n",
            "Unpacking iio-sensor-proxy (2.4-2) ...\n",
            "Selecting previously unselected package libgl1-mesa-glx:amd64.\n",
            "Preparing to unpack .../45-libgl1-mesa-glx_20.0.8-0ubuntu1~18.04.1_amd64.deb ...\n",
            "Unpacking libgl1-mesa-glx:amd64 (20.0.8-0ubuntu1~18.04.1) ...\n",
            "Selecting previously unselected package libmbim-glib4:amd64.\n",
            "Preparing to unpack .../46-libmbim-glib4_1.18.0-1~ubuntu18.04.1_amd64.deb ...\n",
            "Unpacking libmbim-glib4:amd64 (1.18.0-1~ubuntu18.04.1) ...\n",
            "Selecting previously unselected package libmbim-proxy.\n",
            "Preparing to unpack .../47-libmbim-proxy_1.18.0-1~ubuntu18.04.1_amd64.deb ...\n",
            "Unpacking libmbim-proxy (1.18.0-1~ubuntu18.04.1) ...\n",
            "Selecting previously unselected package libnl-genl-3-200:amd64.\n",
            "Preparing to unpack .../48-libnl-genl-3-200_3.2.29-0ubuntu3_amd64.deb ...\n",
            "Unpacking libnl-genl-3-200:amd64 (3.2.29-0ubuntu3) ...\n",
            "Selecting previously unselected package libnss-mdns:amd64.\n",
            "Preparing to unpack .../49-libnss-mdns_0.10-8ubuntu1_amd64.deb ...\n",
            "Unpacking libnss-mdns:amd64 (0.10-8ubuntu1) ...\n",
            "Selecting previously unselected package libportaudio2:amd64.\n",
            "Preparing to unpack .../50-libportaudio2_19.6.0-1_amd64.deb ...\n",
            "Unpacking libportaudio2:amd64 (19.6.0-1) ...\n",
            "Selecting previously unselected package libpulsedsp:amd64.\n",
            "Preparing to unpack .../51-libpulsedsp_1%3a11.1-1ubuntu7.11_amd64.deb ...\n",
            "Unpacking libpulsedsp:amd64 (1:11.1-1ubuntu7.11) ...\n",
            "Selecting previously unselected package libqmi-glib5:amd64.\n",
            "Preparing to unpack .../52-libqmi-glib5_1.22.0-1.2~ubuntu18.04.1_amd64.deb ...\n",
            "Unpacking libqmi-glib5:amd64 (1.22.0-1.2~ubuntu18.04.1) ...\n",
            "Selecting previously unselected package libqmi-proxy.\n",
            "Preparing to unpack .../53-libqmi-proxy_1.22.0-1.2~ubuntu18.04.1_amd64.deb ...\n",
            "Unpacking libqmi-proxy (1.22.0-1.2~ubuntu18.04.1) ...\n",
            "Selecting previously unselected package libqt5help5:amd64.\n",
            "Preparing to unpack .../54-libqt5help5_5.9.5-0ubuntu1_amd64.deb ...\n",
            "Unpacking libqt5help5:amd64 (5.9.5-0ubuntu1) ...\n",
            "Selecting previously unselected package libqt5sql5-sqlite:amd64.\n",
            "Preparing to unpack .../55-libqt5sql5-sqlite_5.9.5+dfsg-0ubuntu2.5_amd64.deb ...\n",
            "Unpacking libqt5sql5-sqlite:amd64 (5.9.5+dfsg-0ubuntu2.5) ...\n",
            "Selecting previously unselected package libqt5x11extras5:amd64.\n",
            "Preparing to unpack .../56-libqt5x11extras5_5.9.5-0ubuntu1_amd64.deb ...\n",
            "Unpacking libqt5x11extras5:amd64 (5.9.5-0ubuntu1) ...\n",
            "Selecting previously unselected package libqt5xmlpatterns5:amd64.\n",
            "Preparing to unpack .../57-libqt5xmlpatterns5_5.9.5-0ubuntu1_amd64.deb ...\n",
            "Unpacking libqt5xmlpatterns5:amd64 (5.9.5-0ubuntu1) ...\n",
            "Selecting previously unselected package modemmanager.\n",
            "Preparing to unpack .../58-modemmanager_1.10.0-1~ubuntu18.04.2_amd64.deb ...\n",
            "Unpacking modemmanager (1.10.0-1~ubuntu18.04.2) ...\n",
            "Selecting previously unselected package musescore-common.\n",
            "Preparing to unpack .../59-musescore-common_2.1.0+dfsg3-3build1_all.deb ...\n",
            "Unpacking musescore-common (2.1.0+dfsg3-3build1) ...\n",
            "Selecting previously unselected package qml-module-qtquick-privatewidgets:amd64.\n",
            "Preparing to unpack .../60-qml-module-qtquick-privatewidgets_5.9.5-0ubuntu1_amd64.deb ...\n",
            "Unpacking qml-module-qtquick-privatewidgets:amd64 (5.9.5-0ubuntu1) ...\n",
            "Selecting previously unselected package qml-module-qtquick-dialogs:amd64.\n",
            "Preparing to unpack .../61-qml-module-qtquick-dialogs_5.9.5-0ubuntu1_amd64.deb ...\n",
            "Unpacking qml-module-qtquick-dialogs:amd64 (5.9.5-0ubuntu1) ...\n",
            "Selecting previously unselected package musescore.\n",
            "Preparing to unpack .../62-musescore_2.1.0+dfsg3-3build1_amd64.deb ...\n",
            "Unpacking musescore (2.1.0+dfsg3-3build1) ...\n",
            "Selecting previously unselected package pulseaudio-utils.\n",
            "Preparing to unpack .../63-pulseaudio-utils_1%3a11.1-1ubuntu7.11_amd64.deb ...\n",
            "Unpacking pulseaudio-utils (1:11.1-1ubuntu7.11) ...\n",
            "Selecting previously unselected package qsynth.\n",
            "Preparing to unpack .../64-qsynth_0.5.0-2_amd64.deb ...\n",
            "Unpacking qsynth (0.5.0-2) ...\n",
            "Selecting previously unselected package wpasupplicant.\n",
            "Preparing to unpack .../65-wpasupplicant_2%3a2.6-15ubuntu2.5_amd64.deb ...\n",
            "Unpacking wpasupplicant (2:2.6-15ubuntu2.5) ...\n",
            "Selecting previously unselected package usb-modeswitch-data.\n",
            "Preparing to unpack .../66-usb-modeswitch-data_20170806-2_all.deb ...\n",
            "Unpacking usb-modeswitch-data (20170806-2) ...\n",
            "Selecting previously unselected package usb-modeswitch.\n",
            "Preparing to unpack .../67-usb-modeswitch_2.5.2+repack0-2ubuntu1_amd64.deb ...\n",
            "Unpacking usb-modeswitch (2.5.2+repack0-2ubuntu1) ...\n",
            "Setting up libqt5qml5:amd64 (5.9.5-0ubuntu1.1) ...\n",
            "Setting up libbrotli1:amd64 (1.0.3-1ubuntu1.3) ...\n",
            "Setting up libqt5quick5:amd64 (5.9.5-0ubuntu1.1) ...\n",
            "Setting up libisc169:amd64 (1:9.11.3+dfsg-1ubuntu1.13) ...\n",
            "Setting up libqt5sensors5:amd64 (5.9.5-0ubuntu1) ...\n",
            "Setting up qml-module-qtquick2:amd64 (5.9.5-0ubuntu1.1) ...\n",
            "Setting up fluidr3mono-gm-soundfont (2.315-4) ...\n",
            "Setting up libdaemon0:amd64 (0.14-6) ...\n",
            "Setting up libisccc160:amd64 (1:9.11.3+dfsg-1ubuntu1.13) ...\n",
            "Setting up libmbim-glib4:amd64 (1.18.0-1~ubuntu18.04.1) ...\n",
            "Setting up libqt5x11extras5:amd64 (5.9.5-0ubuntu1) ...\n",
            "Setting up libpam-cap:amd64 (1:2.25-1.2) ...\n",
            "Setting up libportaudio2:amd64 (19.6.0-1) ...\n",
            "Setting up iio-sensor-proxy (2.4-2) ...\n",
            "Setting up libwoff1:amd64 (1.0.2-1build0.1) ...\n",
            "Setting up libpulsedsp:amd64 (1:11.1-1ubuntu7.11) ...\n",
            "Setting up desktop-file-utils (0.23-1ubuntu3.18.04.2) ...\n",
            "Setting up geoip-database (20180315-1) ...\n",
            "Setting up pulseaudio-utils (1:11.1-1ubuntu7.11) ...\n",
            "Setting up libcap2-bin (1:2.25-1.2) ...\n",
            "Setting up qml-module-qtquick-layouts:amd64 (5.9.5-0ubuntu1.1) ...\n",
            "Setting up fluid-soundfont-gm (3.1-5.1) ...\n",
            "Setting up libnl-genl-3-200:amd64 (3.2.29-0ubuntu3) ...\n",
            "Setting up libgeoip1:amd64 (1.6.12-1) ...\n",
            "Setting up libcdparanoia0:amd64 (3.10.2+debian-13) ...\n",
            "Setting up libqt5help5:amd64 (5.9.5-0ubuntu1) ...\n",
            "Setting up libmbim-proxy (1.18.0-1~ubuntu18.04.1) ...\n",
            "Setting up usb-modeswitch-data (20170806-2) ...\n",
            "Setting up libqt5sql5-sqlite:amd64 (5.9.5+dfsg-0ubuntu2.5) ...\n",
            "Setting up libhyphen0:amd64 (2.8.8-5) ...\n",
            "Setting up libqt5xmlpatterns5:amd64 (5.9.5-0ubuntu1) ...\n",
            "Setting up musescore-common (2.1.0+dfsg3-3build1) ...\n",
            "Setting up usb-modeswitch (2.5.2+repack0-2ubuntu1) ...\n",
            "Setting up libmm-glib0:amd64 (1.10.0-1~ubuntu18.04.2) ...\n",
            "Setting up qml-module-qtquick-privatewidgets:amd64 (5.9.5-0ubuntu1) ...\n",
            "Setting up libgl1-mesa-glx:amd64 (20.0.8-0ubuntu1~18.04.1) ...\n",
            "Setting up libqt5positioning5:amd64 (5.9.5+dfsg-0ubuntu2) ...\n",
            "Setting up libqt5svg5:amd64 (5.9.5-0ubuntu1) ...\n",
            "Setting up qml-module-qtquick-window2:amd64 (5.9.5-0ubuntu1.1) ...\n",
            "Setting up qml-module-qtquick-dialogs:amd64 (5.9.5-0ubuntu1) ...\n",
            "Setting up libvisual-0.4-0:amd64 (0.4.0-11) ...\n",
            "Setting up liborc-0.4-0:amd64 (1:0.4.28-1) ...\n",
            "Setting up libavahi-glib1:amd64 (0.7-3.1ubuntu1.2) ...\n",
            "Setting up libqt5webchannel5:amd64 (5.9.5-0ubuntu1) ...\n",
            "Setting up libdns1100:amd64 (1:9.11.3+dfsg-1ubuntu1.13) ...\n",
            "Setting up libfluidsynth1:amd64 (1.1.9-1) ...\n",
            "Setting up liblwres160:amd64 (1:9.11.3+dfsg-1ubuntu1.13) ...\n",
            "Setting up libavahi-core7:amd64 (0.7-3.1ubuntu1.2) ...\n",
            "Setting up libgstreamer1.0-0:amd64 (1.14.5-0ubuntu1~18.04.1) ...\n",
            "Setcap worked! gst-ptp-helper is not suid!\n",
            "Setting up fluidsynth (1.1.9-1) ...\n",
            "Setting up qml-module-qtgraphicaleffects:amd64 (5.9.5-0ubuntu1) ...\n",
            "Setting up wpasupplicant (2:2.6-15ubuntu2.5) ...\n",
            "Created symlink /etc/systemd/system/dbus-fi.w1.wpa_supplicant1.service → /lib/systemd/system/wpa_supplicant.service.\n",
            "Created symlink /etc/systemd/system/multi-user.target.wants/wpa_supplicant.service → /lib/systemd/system/wpa_supplicant.service.\n",
            "Setting up libqmi-glib5:amd64 (1.22.0-1.2~ubuntu18.04.1) ...\n",
            "Setting up libqmi-proxy (1.22.0-1.2~ubuntu18.04.1) ...\n",
            "Setting up libisccfg160:amd64 (1:9.11.3+dfsg-1ubuntu1.13) ...\n",
            "Setting up qsynth (0.5.0-2) ...\n",
            "Setting up qml-module-qtquick-controls:amd64 (5.9.5-0ubuntu1) ...\n",
            "Setting up libgstreamer-plugins-base1.0-0:amd64 (1.14.5-0ubuntu1~18.04.1) ...\n",
            "Setting up gstreamer1.0-plugins-base:amd64 (1.14.5-0ubuntu1~18.04.1) ...\n",
            "Setting up libqt5webkit5:amd64 (5.212.0~alpha2-7ubuntu1) ...\n",
            "Setting up modemmanager (1.10.0-1~ubuntu18.04.2) ...\n",
            "Created symlink /etc/systemd/system/dbus-org.freedesktop.ModemManager1.service → /lib/systemd/system/ModemManager.service.\n",
            "Created symlink /etc/systemd/system/multi-user.target.wants/ModemManager.service → /lib/systemd/system/ModemManager.service.\n",
            "Setting up libbind9-160:amd64 (1:9.11.3+dfsg-1ubuntu1.13) ...\n",
            "Setting up bind9-host (1:9.11.3+dfsg-1ubuntu1.13) ...\n",
            "Setting up musescore (2.1.0+dfsg3-3build1) ...\n",
            "Setting up avahi-daemon (0.7-3.1ubuntu1.2) ...\n",
            "invoke-rc.d: could not determine current runlevel\n",
            "invoke-rc.d: policy-rc.d denied execution of force-reload.\n",
            "Created symlink /etc/systemd/system/dbus-org.freedesktop.Avahi.service → /lib/systemd/system/avahi-daemon.service.\n",
            "Created symlink /etc/systemd/system/multi-user.target.wants/avahi-daemon.service → /lib/systemd/system/avahi-daemon.service.\n",
            "Created symlink /etc/systemd/system/sockets.target.wants/avahi-daemon.socket → /lib/systemd/system/avahi-daemon.socket.\n",
            "invoke-rc.d: could not determine current runlevel\n",
            "invoke-rc.d: policy-rc.d denied execution of start.\n",
            "Setting up libnss-mdns:amd64 (0.10-8ubuntu1) ...\n",
            "First installation detected...\n",
            "Checking NSS setup...\n",
            "Setting up libgeoclue-2-0:amd64 (2.4.7-1ubuntu1) ...\n",
            "Setting up geoclue-2.0 (2.4.7-1ubuntu1) ...\n",
            "Processing triggers for libc-bin (2.27-3ubuntu1.2) ...\n",
            "/sbin/ldconfig.real: /usr/local/lib/python3.6/dist-packages/ideep4py/lib/libmkldnn.so.0 is not a symbolic link\n",
            "\n",
            "Processing triggers for systemd (237-3ubuntu10.43) ...\n",
            "Processing triggers for man-db (2.8.3-2ubuntu0.1) ...\n",
            "Processing triggers for shared-mime-info (1.9-2) ...\n",
            "Processing triggers for dbus (1.12.2-1ubuntu1.2) ...\n",
            "Processing triggers for hicolor-icon-theme (0.17-2) ...\n",
            "Processing triggers for mime-support (3.60ubuntu1) ...\n",
            "Requirement already satisfied: torch in /usr/local/lib/python3.6/dist-packages (1.7.0+cu101)\n",
            "Requirement already satisfied: fastai in /usr/local/lib/python3.6/dist-packages (1.0.61)\n",
            "Requirement already satisfied: music21 in /usr/local/lib/python3.6/dist-packages (5.5.0)\n",
            "Collecting pebble\n",
            "  Downloading https://files.pythonhosted.org/packages/fb/e1/cb63079456c9cd5180a9dfabe776870d367d1727699b99958d1fb7d667c6/Pebble-4.5.3-py2.py3-none-any.whl\n",
            "Collecting fluidsynth\n",
            "  Downloading https://files.pythonhosted.org/packages/87/db/471488e0ac26ffd0b73e49f1fedc3b557195f45aa0d1e6e9193c510024d3/fluidsynth-0.2.tar.gz\n",
            "Collecting midi2audio\n",
            "  Downloading https://files.pythonhosted.org/packages/55/75/23618a687fc2391192c9d9ec8906a198a3f318f146388d3b96f779826d43/midi2audio-0.1.1-py2.py3-none-any.whl\n",
            "Requirement already satisfied: dataclasses in /usr/local/lib/python3.6/dist-packages (from torch) (0.8)\n",
            "Requirement already satisfied: future in /usr/local/lib/python3.6/dist-packages (from torch) (0.16.0)\n",
            "Requirement already satisfied: numpy in /usr/local/lib/python3.6/dist-packages (from torch) (1.18.5)\n",
            "Requirement already satisfied: typing-extensions in /usr/local/lib/python3.6/dist-packages (from torch) (3.7.4.3)\n",
            "Requirement already satisfied: fastprogress>=0.2.1 in /usr/local/lib/python3.6/dist-packages (from fastai) (1.0.0)\n",
            "Requirement already satisfied: scipy in /usr/local/lib/python3.6/dist-packages (from fastai) (1.4.1)\n",
            "Requirement already satisfied: numexpr in /usr/local/lib/python3.6/dist-packages (from fastai) (2.7.1)\n",
            "Requirement already satisfied: bottleneck in /usr/local/lib/python3.6/dist-packages (from fastai) (1.3.2)\n",
            "Requirement already satisfied: requests in /usr/local/lib/python3.6/dist-packages (from fastai) (2.23.0)\n",
            "Requirement already satisfied: spacy>=2.0.18; python_version < \"3.8\" in /usr/local/lib/python3.6/dist-packages (from fastai) (2.2.4)\n",
            "Requirement already satisfied: torchvision in /usr/local/lib/python3.6/dist-packages (from fastai) (0.8.1+cu101)\n",
            "Requirement already satisfied: pandas in /usr/local/lib/python3.6/dist-packages (from fastai) (1.1.4)\n",
            "Requirement already satisfied: Pillow in /usr/local/lib/python3.6/dist-packages (from fastai) (7.0.0)\n",
            "Requirement already satisfied: pyyaml in /usr/local/lib/python3.6/dist-packages (from fastai) (3.13)\n",
            "Requirement already satisfied: matplotlib in /usr/local/lib/python3.6/dist-packages (from fastai) (3.2.2)\n",
            "Requirement already satisfied: packaging in /usr/local/lib/python3.6/dist-packages (from fastai) (20.4)\n",
            "Requirement already satisfied: nvidia-ml-py3 in /usr/local/lib/python3.6/dist-packages (from fastai) (7.352.0)\n",
            "Requirement already satisfied: beautifulsoup4 in /usr/local/lib/python3.6/dist-packages (from fastai) (4.6.3)\n",
            "Requirement already satisfied: certifi>=2017.4.17 in /usr/local/lib/python3.6/dist-packages (from requests->fastai) (2020.11.8)\n",
            "Requirement already satisfied: chardet<4,>=3.0.2 in /usr/local/lib/python3.6/dist-packages (from requests->fastai) (3.0.4)\n",
            "Requirement already satisfied: urllib3!=1.25.0,!=1.25.1,<1.26,>=1.21.1 in /usr/local/lib/python3.6/dist-packages (from requests->fastai) (1.24.3)\n",
            "Requirement already satisfied: idna<3,>=2.5 in /usr/local/lib/python3.6/dist-packages (from requests->fastai) (2.10)\n",
            "Requirement already satisfied: cymem<2.1.0,>=2.0.2 in /usr/local/lib/python3.6/dist-packages (from spacy>=2.0.18; python_version < \"3.8\"->fastai) (2.0.4)\n",
            "Requirement already satisfied: murmurhash<1.1.0,>=0.28.0 in /usr/local/lib/python3.6/dist-packages (from spacy>=2.0.18; python_version < \"3.8\"->fastai) (1.0.4)\n",
            "Requirement already satisfied: wasabi<1.1.0,>=0.4.0 in /usr/local/lib/python3.6/dist-packages (from spacy>=2.0.18; python_version < \"3.8\"->fastai) (0.8.0)\n",
            "Requirement already satisfied: tqdm<5.0.0,>=4.38.0 in /usr/local/lib/python3.6/dist-packages (from spacy>=2.0.18; python_version < \"3.8\"->fastai) (4.41.1)\n",
            "Requirement already satisfied: plac<1.2.0,>=0.9.6 in /usr/local/lib/python3.6/dist-packages (from spacy>=2.0.18; python_version < \"3.8\"->fastai) (1.1.3)\n",
            "Requirement already satisfied: setuptools in /usr/local/lib/python3.6/dist-packages (from spacy>=2.0.18; python_version < \"3.8\"->fastai) (50.3.2)\n",
            "Requirement already satisfied: blis<0.5.0,>=0.4.0 in /usr/local/lib/python3.6/dist-packages (from spacy>=2.0.18; python_version < \"3.8\"->fastai) (0.4.1)\n",
            "Requirement already satisfied: thinc==7.4.0 in /usr/local/lib/python3.6/dist-packages (from spacy>=2.0.18; python_version < \"3.8\"->fastai) (7.4.0)\n",
            "Requirement already satisfied: preshed<3.1.0,>=3.0.2 in /usr/local/lib/python3.6/dist-packages (from spacy>=2.0.18; python_version < \"3.8\"->fastai) (3.0.4)\n",
            "Requirement already satisfied: srsly<1.1.0,>=1.0.2 in /usr/local/lib/python3.6/dist-packages (from spacy>=2.0.18; python_version < \"3.8\"->fastai) (1.0.4)\n",
            "Requirement already satisfied: catalogue<1.1.0,>=0.0.7 in /usr/local/lib/python3.6/dist-packages (from spacy>=2.0.18; python_version < \"3.8\"->fastai) (1.0.0)\n",
            "Requirement already satisfied: pytz>=2017.2 in /usr/local/lib/python3.6/dist-packages (from pandas->fastai) (2018.9)\n",
            "Requirement already satisfied: python-dateutil>=2.7.3 in /usr/local/lib/python3.6/dist-packages (from pandas->fastai) (2.8.1)\n",
            "Requirement already satisfied: pyparsing!=2.0.4,!=2.1.2,!=2.1.6,>=2.0.1 in /usr/local/lib/python3.6/dist-packages (from matplotlib->fastai) (2.4.7)\n",
            "Requirement already satisfied: kiwisolver>=1.0.1 in /usr/local/lib/python3.6/dist-packages (from matplotlib->fastai) (1.3.1)\n",
            "Requirement already satisfied: cycler>=0.10 in /usr/local/lib/python3.6/dist-packages (from matplotlib->fastai) (0.10.0)\n",
            "Requirement already satisfied: six in /usr/local/lib/python3.6/dist-packages (from packaging->fastai) (1.15.0)\n",
            "Requirement already satisfied: importlib-metadata>=0.20; python_version < \"3.8\" in /usr/local/lib/python3.6/dist-packages (from catalogue<1.1.0,>=0.0.7->spacy>=2.0.18; python_version < \"3.8\"->fastai) (2.0.0)\n",
            "Requirement already satisfied: zipp>=0.5 in /usr/local/lib/python3.6/dist-packages (from importlib-metadata>=0.20; python_version < \"3.8\"->catalogue<1.1.0,>=0.0.7->spacy>=2.0.18; python_version < \"3.8\"->fastai) (3.4.0)\n",
            "Building wheels for collected packages: fluidsynth\n",
            "  Building wheel for fluidsynth (setup.py) ... \u001b[?25l\u001b[?25hdone\n",
            "  Created wheel for fluidsynth: filename=fluidsynth-0.2-cp36-none-any.whl size=4513 sha256=a313a55de3fd3d0703f5d4a0d205998b963b9cb7f5b664d5fed88d50f21dd6c2\n",
            "  Stored in directory: /root/.cache/pip/wheels/2d/70/4d/ffe2589bbfe9c268780570a6875583fbf59547004459e2c3c3\n",
            "Successfully built fluidsynth\n",
            "Installing collected packages: pebble, fluidsynth, midi2audio\n",
            "Successfully installed fluidsynth-0.2 midi2audio-0.1.1 pebble-4.5.3\n"
          ],
          "name": "stdout"
        },
        {
          "output_type": "execute_result",
          "data": {
            "application/vnd.google.colaboratory.intrinsic+json": {
              "type": "string"
            },
            "text/plain": [
              "'/gdrive/My Drive/CS470/cs470_music_generator'"
            ]
          },
          "metadata": {
            "tags": []
          },
          "execution_count": 7
        }
      ]
    },
    {
      "cell_type": "code",
      "metadata": {
        "id": "Qmu3lVcd7G9D"
      },
      "source": [
        "with open(\"data/music_vocab.pkl\", \"rb\") as fd:\r\n",
        "  music_vocab = pickle.load(fd)"
      ],
      "execution_count": null,
      "outputs": []
    },
    {
      "cell_type": "code",
      "metadata": {
        "id": "JCK7v_DS7MVd"
      },
      "source": [
        "import os\r\n",
        "files = os.listdir(\"./data/midi_eval\")"
      ],
      "execution_count": null,
      "outputs": []
    },
    {
      "cell_type": "code",
      "metadata": {
        "colab": {
          "base_uri": "https://localhost:8080/"
        },
        "id": "pYoi5Qzs74uT",
        "outputId": "28fb9510-82ae-47ac-fffe-ecd191c23fba"
      },
      "source": [
        "with open(\"data/dataset_np.pkl\", \"rb\") as fd:\r\n",
        "  music_data = pickle.load(fd)\r\n",
        "beatles = list(map(lambda x: x[\"np\"], music_data))\r\n",
        "beatles[0]"
      ],
      "execution_count": null,
      "outputs": [
        {
          "output_type": "execute_result",
          "data": {
            "text/plain": [
              "tensor([  0,   1,   8,  ..., 189,  49, 189])"
            ]
          },
          "metadata": {
            "tags": []
          },
          "execution_count": 16
        }
      ]
    },
    {
      "cell_type": "code",
      "metadata": {
        "id": "CI6eBK5K7nRf"
      },
      "source": [
        "others = []\r\n",
        "for f in files:\r\n",
        "  item = MusicItem.from_file(\"./data/midi_eval/\" + f, music_vocab)\r\n",
        "  others.append(item.to_tensor())"
      ],
      "execution_count": null,
      "outputs": []
    },
    {
      "cell_type": "code",
      "metadata": {
        "id": "OSU7XrNj9ERM"
      },
      "source": [
        "with open(\"data/music_eval_vocab.pkl\", \"wb\") as fd:\r\n",
        "  pickle.dump(music_vocab, fd)"
      ],
      "execution_count": null,
      "outputs": []
    },
    {
      "cell_type": "code",
      "metadata": {
        "colab": {
          "base_uri": "https://localhost:8080/"
        },
        "id": "tnRO47DJ8LbH",
        "outputId": "2b56b00f-2cf3-42e5-802c-784d824904e3"
      },
      "source": [
        "len(beatles), len(others)"
      ],
      "execution_count": null,
      "outputs": [
        {
          "output_type": "execute_result",
          "data": {
            "text/plain": [
              "(288, 194)"
            ]
          },
          "metadata": {
            "tags": []
          },
          "execution_count": 23
        }
      ]
    },
    {
      "cell_type": "code",
      "metadata": {
        "id": "NEOSSgOa8RBW"
      },
      "source": [
        "chunk_len_music = 400"
      ],
      "execution_count": null,
      "outputs": []
    },
    {
      "cell_type": "code",
      "metadata": {
        "colab": {
          "base_uri": "https://localhost:8080/"
        },
        "id": "TMn8VOib8rQk",
        "outputId": "e0abc62d-0447-4a1e-e236-af09aa36289d"
      },
      "source": [
        "x = list(map(lambda x: x.numpy().tolist(), beatles)) + list(map(lambda x: x.numpy().tolist(), others))\r\n",
        "y = [\"beatles\"] * len(beatles) + [\"others\"] * len(others)\r\n",
        "len(x), len(y)"
      ],
      "execution_count": null,
      "outputs": [
        {
          "output_type": "execute_result",
          "data": {
            "text/plain": [
              "(482, 482)"
            ]
          },
          "metadata": {
            "tags": []
          },
          "execution_count": 85
        }
      ]
    },
    {
      "cell_type": "code",
      "metadata": {
        "id": "RNb49duuB7Wt"
      },
      "source": [
        "with open(\"data/midi_eval.pkl\", \"wb\") as fd:\r\n",
        "  pickle.dump({\"x\": x, \"y\": y}, fd)"
      ],
      "execution_count": null,
      "outputs": []
    },
    {
      "cell_type": "code",
      "metadata": {
        "id": "kcIQE8CgCU6o"
      },
      "source": [
        "all_x = []\r\n",
        "all_y = []\r\n",
        "for i in range(0, len(x)):\r\n",
        "  x_ = x[i]\r\n",
        "  y_ = y[i]\r\n",
        "  for j in range(0, len(x_) - chunk_len_music, chunk_len_music):\r\n",
        "    if (np.random.rand() > 0.3):\r\n",
        "      all_x.append(x_[j: j + chunk_len_music])\r\n",
        "      all_y.append(y_)"
      ],
      "execution_count": null,
      "outputs": []
    },
    {
      "cell_type": "code",
      "metadata": {
        "colab": {
          "base_uri": "https://localhost:8080/"
        },
        "id": "wcVJxPfUDV_M",
        "outputId": "d9773afa-7f14-43fa-baf1-c87fb347bbdf"
      },
      "source": [
        "len(all_x), len(all_y)"
      ],
      "execution_count": null,
      "outputs": [
        {
          "output_type": "execute_result",
          "data": {
            "text/plain": [
              "(6803, 6803)"
            ]
          },
          "metadata": {
            "tags": []
          },
          "execution_count": 87
        }
      ]
    },
    {
      "cell_type": "code",
      "metadata": {
        "colab": {
          "base_uri": "https://localhost:8080/"
        },
        "id": "LU1IJFG2DaCK",
        "outputId": "2738d97b-0581-494d-b028-3b8ef8a6e4da"
      },
      "source": [
        "len(all_x[0])"
      ],
      "execution_count": null,
      "outputs": [
        {
          "output_type": "execute_result",
          "data": {
            "text/plain": [
              "400"
            ]
          },
          "metadata": {
            "tags": []
          },
          "execution_count": 88
        }
      ]
    },
    {
      "cell_type": "code",
      "metadata": {
        "id": "9glnu_AlDb_2"
      },
      "source": [
        "x = all_x\r\n",
        "y = all_y"
      ],
      "execution_count": null,
      "outputs": []
    },
    {
      "cell_type": "code",
      "metadata": {
        "colab": {
          "base_uri": "https://localhost:8080/"
        },
        "id": "HIbXSxU7DpK7",
        "outputId": "10f7ebef-fcd3-421b-9540-cc9564c748d1"
      },
      "source": [
        "import random\r\n",
        "random.seed(3)\r\n",
        "\r\n",
        "random.shuffle(x)\r\n",
        "random.shuffle(y)\r\n",
        "\r\n",
        "x_train, x_test = x[:-500], x[-500:]\r\n",
        "y_train, y_test = y[:-500], y[-500:]\r\n",
        "len(x_train), len(x_test), len(y_train), len(y_test)"
      ],
      "execution_count": null,
      "outputs": [
        {
          "output_type": "execute_result",
          "data": {
            "text/plain": [
              "(6303, 500, 6303, 500)"
            ]
          },
          "metadata": {
            "tags": []
          },
          "execution_count": 90
        }
      ]
    },
    {
      "cell_type": "code",
      "metadata": {
        "colab": {
          "base_uri": "https://localhost:8080/"
        },
        "id": "jivIug_hEX7Z",
        "outputId": "1ceb300f-d200-4913-8f21-8275b667bc2b"
      },
      "source": [
        "import collections\r\n",
        "collections.Counter(y_test)"
      ],
      "execution_count": null,
      "outputs": [
        {
          "output_type": "execute_result",
          "data": {
            "text/plain": [
              "Counter({'beatles': 290, 'others': 210})"
            ]
          },
          "metadata": {
            "tags": []
          },
          "execution_count": 91
        }
      ]
    },
    {
      "cell_type": "code",
      "metadata": {
        "colab": {
          "base_uri": "https://localhost:8080/"
        },
        "id": "TTMAHy4ODgaN",
        "outputId": "1902baa6-5cb1-4eb5-a878-f5856b18ea07"
      },
      "source": [
        "from sklearn.linear_model import LogisticRegression\r\n",
        "\r\n",
        "clf = LogisticRegression(C=1, random_state=0).fit(x_train, y_train)\r\n",
        "clf.score(x_test, y_test)"
      ],
      "execution_count": null,
      "outputs": [
        {
          "output_type": "stream",
          "text": [
            "/usr/local/lib/python3.6/dist-packages/sklearn/linear_model/_logistic.py:940: ConvergenceWarning: lbfgs failed to converge (status=1):\n",
            "STOP: TOTAL NO. of ITERATIONS REACHED LIMIT.\n",
            "\n",
            "Increase the number of iterations (max_iter) or scale the data as shown in:\n",
            "    https://scikit-learn.org/stable/modules/preprocessing.html\n",
            "Please also refer to the documentation for alternative solver options:\n",
            "    https://scikit-learn.org/stable/modules/linear_model.html#logistic-regression\n",
            "  extra_warning_msg=_LOGISTIC_SOLVER_CONVERGENCE_MSG)\n"
          ],
          "name": "stderr"
        },
        {
          "output_type": "execute_result",
          "data": {
            "text/plain": [
              "0.516"
            ]
          },
          "metadata": {
            "tags": []
          },
          "execution_count": 92
        }
      ]
    },
    {
      "cell_type": "code",
      "metadata": {
        "id": "eIMRvqxLEB5d"
      },
      "source": [
        ""
      ],
      "execution_count": null,
      "outputs": []
    }
  ]
}