{
  "nbformat": 4,
  "nbformat_minor": 0,
  "metadata": {
    "colab": {
      "name": "mergesong.ipynb",
      "provenance": []
    },
    "kernelspec": {
      "name": "python3",
      "display_name": "Python 3"
    }
  },
  "cells": [
    {
      "cell_type": "code",
      "metadata": {
        "colab": {
          "base_uri": "https://localhost:8080/"
        },
        "id": "dAwSf5qnihrb",
        "outputId": "25620a5c-c52b-4a07-e98c-e4a67fa59573"
      },
      "source": [
        "from google.colab import drive\r\n",
        "import os\r\n",
        "drive.mount('/gdrive')"
      ],
      "execution_count": null,
      "outputs": [
        {
          "output_type": "stream",
          "text": [
            "Mounted at /gdrive\n"
          ],
          "name": "stdout"
        }
      ]
    },
    {
      "cell_type": "code",
      "metadata": {
        "id": "AdP9EwBojUCr"
      },
      "source": [
        "root = \"/gdrive/My Drive/CS470/cs470_music_generator/\""
      ],
      "execution_count": null,
      "outputs": []
    },
    {
      "cell_type": "code",
      "metadata": {
        "colab": {
          "base_uri": "https://localhost:8080/"
        },
        "id": "mgaCkw6ApDec",
        "outputId": "0aa2745d-7940-46b9-dcfd-97f43a1fcef1"
      },
      "source": [
        "!pip install pydub\r\n",
        "!pip install gTTS\r\n",
        "!pip install soundfile\r\n"
      ],
      "execution_count": null,
      "outputs": [
        {
          "output_type": "stream",
          "text": [
            "Collecting pydub\n",
            "  Downloading https://files.pythonhosted.org/packages/7b/d1/fbfa79371a8cd9bb15c2e3c480d7e6e340ed5cc55005174e16f48418333a/pydub-0.24.1-py2.py3-none-any.whl\n",
            "Installing collected packages: pydub\n",
            "Successfully installed pydub-0.24.1\n",
            "Collecting gTTS\n",
            "  Downloading https://files.pythonhosted.org/packages/44/31/4494ecac89677d3c839d079363ab655c4751764803ddcd22bcc37f6d32f8/gTTS-2.2.1-py3-none-any.whl\n",
            "Requirement already satisfied: six in /usr/local/lib/python3.6/dist-packages (from gTTS) (1.15.0)\n",
            "Requirement already satisfied: click in /usr/local/lib/python3.6/dist-packages (from gTTS) (7.1.2)\n",
            "Requirement already satisfied: requests in /usr/local/lib/python3.6/dist-packages (from gTTS) (2.23.0)\n",
            "Requirement already satisfied: urllib3!=1.25.0,!=1.25.1,<1.26,>=1.21.1 in /usr/local/lib/python3.6/dist-packages (from requests->gTTS) (1.24.3)\n",
            "Requirement already satisfied: idna<3,>=2.5 in /usr/local/lib/python3.6/dist-packages (from requests->gTTS) (2.10)\n",
            "Requirement already satisfied: certifi>=2017.4.17 in /usr/local/lib/python3.6/dist-packages (from requests->gTTS) (2020.12.5)\n",
            "Requirement already satisfied: chardet<4,>=3.0.2 in /usr/local/lib/python3.6/dist-packages (from requests->gTTS) (3.0.4)\n",
            "Installing collected packages: gTTS\n",
            "Successfully installed gTTS-2.2.1\n",
            "Collecting soundfile\n",
            "  Downloading https://files.pythonhosted.org/packages/eb/f2/3cbbbf3b96fb9fa91582c438b574cff3f45b29c772f94c400e2c99ef5db9/SoundFile-0.10.3.post1-py2.py3-none-any.whl\n",
            "Requirement already satisfied: cffi>=1.0 in /usr/local/lib/python3.6/dist-packages (from soundfile) (1.14.4)\n",
            "Requirement already satisfied: pycparser in /usr/local/lib/python3.6/dist-packages (from cffi>=1.0->soundfile) (2.20)\n",
            "Installing collected packages: soundfile\n",
            "Successfully installed soundfile-0.10.3.post1\n"
          ],
          "name": "stdout"
        }
      ]
    },
    {
      "cell_type": "code",
      "metadata": {
        "colab": {
          "base_uri": "https://localhost:8080/"
        },
        "id": "UOIp29g3849W",
        "outputId": "587700b0-4fa3-4e94-9902-445545994dd0"
      },
      "source": [
        "!sudo apt update\r\n",
        "!sudo apt-get install timidity"
      ],
      "execution_count": null,
      "outputs": [
        {
          "output_type": "stream",
          "text": [
            "\u001b[33m\r0% [Working]\u001b[0m\r            \rIgn:1 https://developer.download.nvidia.com/compute/cuda/repos/ubuntu1804/x86_64  InRelease\n",
            "\u001b[33m\r0% [Connecting to archive.ubuntu.com] [Connecting to security.ubuntu.com (91.18\u001b[0m\r                                                                               \rIgn:2 https://developer.download.nvidia.com/compute/machine-learning/repos/ubuntu1804/x86_64  InRelease\n",
            "\u001b[33m\r0% [Connecting to archive.ubuntu.com (91.189.88.152)] [Waiting for headers] [Wa\u001b[0m\r                                                                               \rGet:3 https://cloud.r-project.org/bin/linux/ubuntu bionic-cran40/ InRelease [3,626 B]\n",
            "\u001b[33m\r0% [Connecting to archive.ubuntu.com (91.189.88.152)] [Waiting for headers] [3 \u001b[0m\u001b[33m\r0% [Connecting to archive.ubuntu.com (91.189.88.152)] [Waiting for headers] [Co\u001b[0m\r                                                                               \rHit:4 https://developer.download.nvidia.com/compute/cuda/repos/ubuntu1804/x86_64  Release\n",
            "Hit:5 https://developer.download.nvidia.com/compute/machine-learning/repos/ubuntu1804/x86_64  Release\n",
            "Get:6 http://security.ubuntu.com/ubuntu bionic-security InRelease [88.7 kB]\n",
            "Get:7 https://cloud.r-project.org/bin/linux/ubuntu bionic-cran40/ Packages [40.7 kB]\n",
            "Get:8 http://ppa.launchpad.net/c2d4u.team/c2d4u4.0+/ubuntu bionic InRelease [15.9 kB]\n",
            "Hit:10 http://archive.ubuntu.com/ubuntu bionic InRelease\n",
            "Get:12 http://archive.ubuntu.com/ubuntu bionic-updates InRelease [88.7 kB]\n",
            "Get:13 http://security.ubuntu.com/ubuntu bionic-security/main amd64 Packages [1,814 kB]\n",
            "Get:14 http://ppa.launchpad.net/graphics-drivers/ppa/ubuntu bionic InRelease [21.3 kB]\n",
            "Get:15 http://archive.ubuntu.com/ubuntu bionic-backports InRelease [74.6 kB]\n",
            "Get:16 http://security.ubuntu.com/ubuntu bionic-security/universe amd64 Packages [1,372 kB]\n",
            "Get:17 http://security.ubuntu.com/ubuntu bionic-security/multiverse amd64 Packages [15.3 kB]\n",
            "Get:18 http://security.ubuntu.com/ubuntu bionic-security/restricted amd64 Packages [237 kB]\n",
            "Get:19 http://ppa.launchpad.net/c2d4u.team/c2d4u4.0+/ubuntu bionic/main Sources [1,697 kB]\n",
            "Get:20 http://archive.ubuntu.com/ubuntu bionic-updates/restricted amd64 Packages [266 kB]\n",
            "Get:21 http://archive.ubuntu.com/ubuntu bionic-updates/multiverse amd64 Packages [53.8 kB]\n",
            "Get:22 http://archive.ubuntu.com/ubuntu bionic-updates/universe amd64 Packages [2,136 kB]\n",
            "Get:23 http://archive.ubuntu.com/ubuntu bionic-updates/main amd64 Packages [2,241 kB]\n",
            "Get:24 http://ppa.launchpad.net/c2d4u.team/c2d4u4.0+/ubuntu bionic/main amd64 Packages [869 kB]\n",
            "Get:25 http://ppa.launchpad.net/graphics-drivers/ppa/ubuntu bionic/main amd64 Packages [46.5 kB]\n",
            "Fetched 11.1 MB in 4s (2,909 kB/s)\n",
            "Reading package lists... Done\n",
            "Building dependency tree       \n",
            "Reading state information... Done\n",
            "36 packages can be upgraded. Run 'apt list --upgradable' to see them.\n",
            "Reading package lists... Done\n",
            "Building dependency tree       \n",
            "Reading state information... Done\n",
            "The following additional packages will be installed:\n",
            "  freepats libaudio2 timidity-daemon\n",
            "Suggested packages:\n",
            "  nas fluid-soundfont-gm fluid-soundfont-gs pmidi\n",
            "The following NEW packages will be installed:\n",
            "  freepats libaudio2 timidity timidity-daemon\n",
            "0 upgraded, 4 newly installed, 0 to remove and 36 not upgraded.\n",
            "Need to get 29.6 MB of archives.\n",
            "After this operation, 35.7 MB of additional disk space will be used.\n",
            "Get:1 http://archive.ubuntu.com/ubuntu bionic/universe amd64 freepats all 20060219-1 [29.0 MB]\n",
            "Get:2 http://archive.ubuntu.com/ubuntu bionic/main amd64 libaudio2 amd64 1.9.4-6 [50.3 kB]\n",
            "Get:3 http://archive.ubuntu.com/ubuntu bionic/universe amd64 timidity amd64 2.13.2-41 [585 kB]\n",
            "Get:4 http://archive.ubuntu.com/ubuntu bionic/universe amd64 timidity-daemon all 2.13.2-41 [5,984 B]\n",
            "Fetched 29.6 MB in 3s (10.2 MB/s)\n",
            "debconf: unable to initialize frontend: Dialog\n",
            "debconf: (No usable dialog-like program is installed, so the dialog based frontend cannot be used. at /usr/share/perl5/Debconf/FrontEnd/Dialog.pm line 76, <> line 4.)\n",
            "debconf: falling back to frontend: Readline\n",
            "debconf: unable to initialize frontend: Readline\n",
            "debconf: (This frontend requires a controlling tty.)\n",
            "debconf: falling back to frontend: Teletype\n",
            "dpkg-preconfigure: unable to re-open stdin: \n",
            "Selecting previously unselected package freepats.\n",
            "(Reading database ... 144865 files and directories currently installed.)\n",
            "Preparing to unpack .../freepats_20060219-1_all.deb ...\n",
            "Unpacking freepats (20060219-1) ...\n",
            "Selecting previously unselected package libaudio2:amd64.\n",
            "Preparing to unpack .../libaudio2_1.9.4-6_amd64.deb ...\n",
            "Unpacking libaudio2:amd64 (1.9.4-6) ...\n",
            "Selecting previously unselected package timidity.\n",
            "Preparing to unpack .../timidity_2.13.2-41_amd64.deb ...\n",
            "Unpacking timidity (2.13.2-41) ...\n",
            "Selecting previously unselected package timidity-daemon.\n",
            "Preparing to unpack .../timidity-daemon_2.13.2-41_all.deb ...\n",
            "Unpacking timidity-daemon (2.13.2-41) ...\n",
            "Setting up freepats (20060219-1) ...\n",
            "Setting up libaudio2:amd64 (1.9.4-6) ...\n",
            "Setting up timidity (2.13.2-41) ...\n",
            "Setting up timidity-daemon (2.13.2-41) ...\n",
            "Adding group timidity....done\n",
            "Adding system user timidity....done\n",
            "Adding user `timidity' to group `audio' ...\n",
            "Adding user timidity to group audio\n",
            "Done.\n",
            "invoke-rc.d: could not determine current runlevel\n",
            "invoke-rc.d: policy-rc.d denied execution of stop.\n",
            "invoke-rc.d: could not determine current runlevel\n",
            "invoke-rc.d: policy-rc.d denied execution of start.\n",
            "Processing triggers for man-db (2.8.3-2ubuntu0.1) ...\n",
            "Processing triggers for libc-bin (2.27-3ubuntu1.2) ...\n",
            "/sbin/ldconfig.real: /usr/local/lib/python3.6/dist-packages/ideep4py/lib/libmkldnn.so.0 is not a symbolic link\n",
            "\n",
            "Processing triggers for systemd (237-3ubuntu10.43) ...\n"
          ],
          "name": "stdout"
        }
      ]
    },
    {
      "cell_type": "markdown",
      "metadata": {
        "id": "OgnxlRnEoxcu"
      },
      "source": [
        "# Import packages"
      ]
    },
    {
      "cell_type": "code",
      "metadata": {
        "id": "KZHmMC3oovKe"
      },
      "source": [
        "import pickle\r\n",
        "from gtts import gTTS\r\n",
        "import wave\r\n",
        "import contextlib\r\n",
        "import librosa\r\n",
        "import soundfile\r\n",
        "from pydub import AudioSegment"
      ],
      "execution_count": null,
      "outputs": []
    },
    {
      "cell_type": "markdown",
      "metadata": {
        "id": "puDuNR0ApNbt"
      },
      "source": [
        "\r\n",
        "# Merge songs"
      ]
    },
    {
      "cell_type": "code",
      "metadata": {
        "colab": {
          "base_uri": "https://localhost:8080/"
        },
        "id": "u_0lFZzs91ic",
        "outputId": "6d2b917a-2dc0-4388-dbd3-ebfa8fa43f8c"
      },
      "source": [
        "#convert midi file to wav format \r\n",
        "#saved in the current directory as \"out.wav\"\r\n",
        "song = root + 'music/song2.midi'\r\n",
        "print(song)\r\n",
        "!timidity \"$song\" -Ow -o out.wav"
      ],
      "execution_count": null,
      "outputs": [
        {
          "output_type": "stream",
          "text": [
            "/gdrive/My Drive/CS470/cs470_music_generator/music/song2.midi\n",
            "Playing /gdrive/My Drive/CS470/cs470_music_generator/music/song2.midi\n",
            "MIDI file: /gdrive/My Drive/CS470/cs470_music_generator/music/song2.midi\n",
            "Format: 1  Tracks: 1  Divisions: 1024\n",
            "Sequence: Piano\n",
            "Playing time: ~13 seconds\n",
            "Notes cut: 0\n",
            "Notes lost totally: 0\n"
          ],
          "name": "stdout"
        }
      ]
    },
    {
      "cell_type": "code",
      "metadata": {
        "id": "snmkRrQBGZvi"
      },
      "source": [
        "with open(root+'data/last_generated.pkl','rb') as fb:\r\n",
        "  lines = pickle.load(fb)\r\n",
        "  fb.close()\r\n",
        "\r\n",
        "lines = lines[0]"
      ],
      "execution_count": null,
      "outputs": []
    },
    {
      "cell_type": "code",
      "metadata": {
        "colab": {
          "base_uri": "https://localhost:8080/",
          "height": 157
        },
        "id": "JsO25MmtQzLl",
        "outputId": "0e643330-27f9-4e2c-da19-844df67d2dd4"
      },
      "source": [
        "lines"
      ],
      "execution_count": null,
      "outputs": [
        {
          "output_type": "execute_result",
          "data": {
            "application/vnd.google.colaboratory.intrinsic+json": {
              "type": "string"
            },
            "text/plain": [
              "'goodness \\n by \\n big brother and the holding company \\n \\n you give me what you want \\n by \\n the animals \\n \\n paper planes \\n by \\n mia \\n \\n ill feel a whole lot \\n by \\n bill withers \\n \\n seven nation army \\n by \\n the white stripes \\n \\n you are the sunshine of my life \\n by \\n stevie wonder \\n \\n help me \\n by \\n joni mitchell \\n \\n call me \\n by \\n blondie \\n \\n whats so funny bout peace love and understanding \\n by \\n elvis costello and the attractions \\n \\n smoke stack lightning \\n by \\n howlin wolf \\n \\n summer babe \\n by \\n van morrison \\n \\n just like a woman \\n by \\n bob dylan \\n \\n sexual healing \\n by \\n marvin gaye \\n \\n only the lonely \\n by \\n roy orbison \\n \\n we gotta get out of this place \\n by \\n the animals \\n \\n paper planes \\n by \\n mia \\n \\n ill feel a whole lot better \\n by \\n the byrds \\n \\n everyday \\n by \\n buddy holly \\n \\n i got a good'"
            ]
          },
          "metadata": {
            "tags": []
          },
          "execution_count": 13
        }
      ]
    },
    {
      "cell_type": "code",
      "metadata": {
        "id": "1e39-FyqsY86"
      },
      "source": [
        "lyrics = [line.replace('\\n', '.') for line in lines]\r\n",
        "lyrics = ''.join(lyrics)\r\n",
        "# print(lyrics)\r\n",
        "\r\n",
        "lyrics_tts = gTTS(text = lyrics, lang = 'en')#, slow = 'False')\r\n",
        "lyrics_tts.save(\"lyrics.wav\")"
      ],
      "execution_count": null,
      "outputs": []
    },
    {
      "cell_type": "code",
      "metadata": {
        "colab": {
          "base_uri": "https://localhost:8080/"
        },
        "id": "OSWH1OshMaNR",
        "outputId": "1faeb261-6d46-451c-da17-9f2a78b51fe8"
      },
      "source": [
        "x,_ = librosa.load('lyrics.wav', sr=16000)\r\n",
        "soundfile.write('tmp.wav', x, 16000)\r\n",
        "fopen = wave.open('tmp.wav','r')\r\n",
        "with contextlib.closing(fopen) as f:\r\n",
        "    frames = f.getnframes()\r\n",
        "    rate = f.getframerate()\r\n",
        "    duration_lyrics = frames / float(rate) #in seconds\r\n",
        "    print(duration_lyrics)"
      ],
      "execution_count": null,
      "outputs": [
        {
          "output_type": "stream",
          "text": [
            "60.12\n"
          ],
          "name": "stdout"
        }
      ]
    },
    {
      "cell_type": "code",
      "metadata": {
        "colab": {
          "base_uri": "https://localhost:8080/"
        },
        "id": "fpIxa7mvJQZy",
        "outputId": "d71a9712-3156-445b-bef1-3952f1ce225c"
      },
      "source": [
        "fopen = wave.open('out.wav','r')\r\n",
        "with contextlib.closing(fopen) as f:\r\n",
        "    frames = f.getnframes()\r\n",
        "    rate = f.getframerate()\r\n",
        "    duration_midi = frames / float(rate) #in seconds\r\n",
        "    print(duration_midi)"
      ],
      "execution_count": null,
      "outputs": [
        {
          "output_type": "stream",
          "text": [
            "11.75045351473923\n"
          ],
          "name": "stdout"
        }
      ]
    },
    {
      "cell_type": "code",
      "metadata": {
        "colab": {
          "base_uri": "https://localhost:8080/"
        },
        "id": "RBgPs2crNkV7",
        "outputId": "95fc7d45-6aad-4b5b-a26e-bc71c387741c"
      },
      "source": [
        "n = math.ceil(duration_lyrics/duration_midi) + 1\r\n",
        "print(n)\r\n",
        "chunk = AudioSegment.from_wav('out.wav')\r\n",
        "output = chunk\r\n",
        "for i in range(n):\r\n",
        "  output += chunk\r\n",
        "output += chunk\r\n",
        "output.export(\"joinedFile.wav\", format=\"wav\")"
      ],
      "execution_count": null,
      "outputs": [
        {
          "output_type": "stream",
          "text": [
            "4\n"
          ],
          "name": "stdout"
        },
        {
          "output_type": "execute_result",
          "data": {
            "text/plain": [
              "<_io.BufferedRandom name='joinedFile.wav'>"
            ]
          },
          "metadata": {
            "tags": []
          },
          "execution_count": 65
        }
      ]
    },
    {
      "cell_type": "code",
      "metadata": {
        "id": "uvBbDdHamV37",
        "colab": {
          "base_uri": "https://localhost:8080/"
        },
        "outputId": "c94a5322-3866-4741-9782-f48dce2ac0f2"
      },
      "source": [
        "sound_text = AudioSegment.from_file(\"tmp.wav\")\r\n",
        "sound_melody = AudioSegment.from_file(\"joinedFile.wav\")\r\n",
        "\r\n",
        "# mix sound2 with sound1, starting at 5000ms into sound1)\r\n",
        "print(duration_midi)\r\n",
        "output = sound_melody.overlay(sound_text, position=duration_midi*1000)\r\n",
        "\r\n",
        "# save the result\r\n",
        "output.export(\"song.mp3\", format=\"mp3\")"
      ],
      "execution_count": null,
      "outputs": [
        {
          "output_type": "stream",
          "text": [
            "11.75045351473923\n"
          ],
          "name": "stdout"
        },
        {
          "output_type": "execute_result",
          "data": {
            "text/plain": [
              "<_io.BufferedRandom name='song.mp3'>"
            ]
          },
          "metadata": {
            "tags": []
          },
          "execution_count": 72
        }
      ]
    }
  ]
}