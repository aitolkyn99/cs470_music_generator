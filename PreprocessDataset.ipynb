{
 "cells": [
  {
   "cell_type": "code",
   "execution_count": 68,
   "metadata": {},
   "outputs": [],
   "source": [
    "import pickle\n",
    "import re\n",
    "from mido import MidiFile"
   ]
  },
  {
   "cell_type": "code",
   "execution_count": 60,
   "metadata": {},
   "outputs": [
    {
     "data": {
      "text/plain": [
       "{'title': 'I Saw Her Standing There',\n",
       " 'lyrics': '[Intro: Paul McCartney]\\n1, 2, 3, 4!\\n\\n[Verse 1: Paul McCartney, McCartney & John Lennon]\\nWell, she was just 17, if you know what I mean\\nAnd the way she looked\\nWas way beyond compare\\nSo how could I dance with another? (Ooh)\\nWhen I saw her standing there?\\n\\n[Verse 2: Paul McCartney, McCartney & John Lennon]\\nWell, she looked at me, and I, I could see\\nThat before too long, I\\'d fall in love with her\\nShe wouldn\\'t dance with another (Woo)\\nWhen I saw her standing there\\n\\n[Bridge: Paul McCartney & John Lennon]\\nWell, my heart went \"boom\"\\nWhen I crossed that room\\nAnd I held her hand in mine\\n\\n[Verse 3: Paul McCartney, McCartney & John Lennon]\\nWell, we danced through the night\\nAnd we held each other tight\\nAnd before too long, I fell in love with her\\nNow, I\\'ll never dance with another (Woo)\\nSince I saw her standing there\\n\\n[Guitar Solo: George Harrison]\\n\\n[Bridge: Paul McCartney & John Lennon]\\nWell, my heart went \"boom\"\\nWhen I crossed that room\\nAnd I held her hand in mine\\n\\n[Verse 3: Paul McCartney, McCartney & John Lennon]\\nOh, we danced through the night\\nAnd we held each other tight\\nAnd before too long, I fell in love with her\\nNow I\\'ll never dance with another (Woo)\\nSince I saw her standing there\\n\\n[Outro: Paul McCartney & John Lennon]\\nOh, since I saw her standing there\\nYeah, well, since I saw her standing there',\n",
       " 'midi': './data/midi/I Saw Her Standing There.MID'}"
      ]
     },
     "execution_count": 60,
     "metadata": {},
     "output_type": "execute_result"
    }
   ],
   "source": [
    "data[0]"
   ]
  },
  {
   "cell_type": "code",
   "execution_count": 61,
   "metadata": {},
   "outputs": [],
   "source": [
    "with open(\"data/dataset.pkl\", \"rb\") as fd:\n",
    "    data = pickle.load(fd)"
   ]
  },
  {
   "cell_type": "code",
   "execution_count": 62,
   "metadata": {},
   "outputs": [],
   "source": [
    "def preprocess(x):\n",
    "    tmp = re.sub(\"[\\[].*?[\\]]\", \"\", x.strip())\n",
    "    tmp = re.sub(r'(\\n){2,}','\\n', tmp)\n",
    "    return tmp"
   ]
  },
  {
   "cell_type": "code",
   "execution_count": 63,
   "metadata": {},
   "outputs": [],
   "source": [
    "def preprocess_midi(x):\n",
    "    return x"
   ]
  },
  {
   "cell_type": "code",
   "execution_count": null,
   "metadata": {},
   "outputs": [],
   "source": [
    "processed_data = []\n",
    "for d in data:\n",
    "    tmp = {\n",
    "        \"title\": d[\"title\"],\n",
    "        \"lyrics\": preprocess(d[\"lyrics\"]),\n",
    "        \"midi\": preprocess_midi(d[\"midi\"])\n",
    "    }\n",
    "    processed_data.append(tmp)"
   ]
  },
  {
   "cell_type": "code",
   "execution_count": 65,
   "metadata": {},
   "outputs": [
    {
     "data": {
      "text/plain": [
       "{'title': 'I Saw Her Standing There',\n",
       " 'lyrics': '\\n1, 2, 3, 4!\\nWell, she was just 17, if you know what I mean\\nAnd the way she looked\\nWas way beyond compare\\nSo how could I dance with another? (Ooh)\\nWhen I saw her standing there?\\nWell, she looked at me, and I, I could see\\nThat before too long, I\\'d fall in love with her\\nShe wouldn\\'t dance with another (Woo)\\nWhen I saw her standing there\\nWell, my heart went \"boom\"\\nWhen I crossed that room\\nAnd I held her hand in mine\\nWell, we danced through the night\\nAnd we held each other tight\\nAnd before too long, I fell in love with her\\nNow, I\\'ll never dance with another (Woo)\\nSince I saw her standing there\\nWell, my heart went \"boom\"\\nWhen I crossed that room\\nAnd I held her hand in mine\\nOh, we danced through the night\\nAnd we held each other tight\\nAnd before too long, I fell in love with her\\nNow I\\'ll never dance with another (Woo)\\nSince I saw her standing there\\nOh, since I saw her standing there\\nYeah, well, since I saw her standing there',\n",
       " 'midi': './data/midi/I Saw Her Standing There.MID'}"
      ]
     },
     "execution_count": 65,
     "metadata": {},
     "output_type": "execute_result"
    }
   ],
   "source": [
    "processed_data[0]"
   ]
  },
  {
   "cell_type": "code",
   "execution_count": 71,
   "metadata": {},
   "outputs": [],
   "source": [
    "a = MidiFile(processed_data[0][\"midi\"])"
   ]
  },
  {
   "cell_type": "code",
   "execution_count": 73,
   "metadata": {},
   "outputs": [
    {
     "name": "stdout",
     "output_type": "stream",
     "text": [
      "[<midi track '      I Saw Her ' 13 messages>, <midi track '   Standing There' 4 messages>, <midi track 'Fretless E.Bass' 1621 messages>, <midi track 'Muted Gtr 1' 2211 messages>, <midi track 'Rock Organ Lead' 555 messages>, <midi track 'Rock Organ Harmony' 318 messages>, <midi track 'Muted Gtr 2 ' 1792 messages>, <midi track 'Std Drums' 2426 messages>, <midi track '=================' 3 messages>, <midi track 'MUSIC & WORDS by:' 3 messages>, <midi track 'John Lennon' 3 messages>, <midi track 'Paul McCartney' 3 messages>, <midi track 'SEQUENCED by:' 3 messages>, <midi track 'DWBarnes 06/22/95' 9 messages>, <midi track '=================' 3 messages>]\n"
     ]
    }
   ],
   "source": [
    "print(a.tracks)"
   ]
  },
  {
   "cell_type": "markdown",
   "metadata": {},
   "source": [
    "Check this code out for MIDI encoding https://github.com/bearpelican/musicautobot/blob/master/notebooks/data_encoding/Midi2Tensor.ipynb"
   ]
  },
  {
   "cell_type": "code",
   "execution_count": null,
   "metadata": {},
   "outputs": [],
   "source": []
  }
 ],
 "metadata": {
  "kernelspec": {
   "display_name": "Python 3",
   "language": "python",
   "name": "python3"
  },
  "language_info": {
   "codemirror_mode": {
    "name": "ipython",
    "version": 3
   },
   "file_extension": ".py",
   "mimetype": "text/x-python",
   "name": "python",
   "nbconvert_exporter": "python",
   "pygments_lexer": "ipython3",
   "version": "3.7.6"
  }
 },
 "nbformat": 4,
 "nbformat_minor": 2
}
